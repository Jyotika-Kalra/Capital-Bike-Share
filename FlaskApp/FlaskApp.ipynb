{
 "metadata": {
  "language_info": {
   "codemirror_mode": {
    "name": "ipython",
    "version": 3
   },
   "file_extension": ".py",
   "mimetype": "text/x-python",
   "name": "python",
   "nbconvert_exporter": "python",
   "pygments_lexer": "ipython3",
   "version": "3.8.3-final"
  },
  "orig_nbformat": 2,
  "kernelspec": {
   "name": "python3",
   "display_name": "Python 3",
   "language": "python"
  }
 },
 "nbformat": 4,
 "nbformat_minor": 2,
 "cells": [
  {
   "cell_type": "code",
   "execution_count": 1,
   "metadata": {},
   "outputs": [],
   "source": [
    "import pandas as pd\n",
    "import numpy as np\n",
    "import statistics as st\n",
    "import matplotlib.pyplot as plt\n",
    "import seaborn as sns\n",
    "from sklearn.model_selection import train_test_split\n",
    "from collections import Counter\n",
    "from sklearn.preprocessing import StandardScaler\n",
    "from sklearn.preprocessing import LabelEncoder\n",
    "from sklearn.linear_model import LogisticRegression\n",
    "from sklearn.model_selection import cross_val_predict\n",
    "from sklearn import metrics\n",
    "from sklearn.metrics import accuracy_score\n",
    "from sklearn.metrics import confusion_matrix\n",
    "from sklearn.metrics import classification_report\n",
    "from sklearn.model_selection import cross_val_score\n",
    "from sklearn import svm\n",
    "from sklearn.neighbors import KNeighborsClassifier\n",
    "from sklearn.model_selection import GridSearchCV\n",
    "from pylab import savefig\n",
    "%matplotlib inline\n",
    "from sklearn.tree import DecisionTreeClassifier\n",
    "from sklearn.tree import plot_tree\n",
    "import datetime\n",
    "from pandas.tseries.holiday import USFederalHolidayCalendar as calendar\n",
    "from sklearn.linear_model import LinearRegression\n",
    "import pickle"
   ]
  },
  {
   "cell_type": "code",
   "execution_count": 2,
   "metadata": {},
   "outputs": [],
   "source": [
    "jan2019 = pd.read_csv(\"./2019 data/201901-capitalbikeshare-tripdata.csv\")\n",
    "feb2019 = pd.read_csv(\"./2019 data/201902-capitalbikeshare-tripdata.csv\")\n",
    "mar2019 = pd.read_csv(\"./2019 data/201903-capitalbikeshare-tripdata.csv\")\n",
    "apr2019 = pd.read_csv(\"./2019 data/201904-capitalbikeshare-tripdata.csv\")\n",
    "may2019 = pd.read_csv(\"./2019 data/201905-capitalbikeshare-tripdata.csv\")\n",
    "jun2019 = pd.read_csv(\"./2019 data/201906-capitalbikeshare-tripdata.csv\")\n",
    "#jul2019 = pd.read_csv(\"./2019 data/201907-capitalbikeshare-tripdata.csv\")\n",
    "aug2019 = pd.read_csv(\"./2019 data/201908-capitalbikeshare-tripdata.csv\")\n",
    "sep2019 = pd.read_csv(\"./2019 data/201909-capitalbikeshare-tripdata.csv\")\n",
    "oct2019 = pd.read_csv(\"./2019 data/201910-capitalbikeshare-tripdata.csv\")\n",
    "nov2019 = pd.read_csv(\"./2019 data/201911-capitalbikeshare-tripdata.csv\")\n",
    "dec2019 = pd.read_csv(\"./2019 data/201912-capitalbikeshare-tripdata.csv\")"
   ]
  },
  {
   "cell_type": "code",
   "execution_count": 3,
   "metadata": {},
   "outputs": [
    {
     "output_type": "execute_result",
     "data": {
      "text/plain": [
       "        Duration           Start date             End date  \\\n",
       "0            230  2019-01-01 00:04:48  2019-01-01 00:08:39   \n",
       "1           1549  2019-01-01 00:06:37  2019-01-01 00:32:27   \n",
       "2            177  2019-01-01 00:08:46  2019-01-01 00:11:44   \n",
       "3            228  2019-01-01 00:08:47  2019-01-01 00:12:35   \n",
       "4           1300  2019-01-01 00:12:29  2019-01-01 00:34:10   \n",
       "...          ...                  ...                  ...   \n",
       "161873       130  2019-12-31 23:57:36  2019-12-31 23:59:46   \n",
       "161874       664  2019-12-31 23:57:47  2020-01-01 00:08:51   \n",
       "161875       389  2019-12-31 23:59:37  2020-01-01 00:06:06   \n",
       "161876       962  2019-12-31 23:59:38  2020-01-01 00:15:40   \n",
       "161877       183  2019-12-31 23:59:55  2020-01-01 00:02:58   \n",
       "\n",
       "        Start station number                           Start station  \\\n",
       "0                      31203              14th & Rhode Island Ave NW   \n",
       "1                      31321           15th St & Constitution Ave NW   \n",
       "2                      31104             Adams Mill & Columbia Rd NW   \n",
       "3                      31281                           8th & O St NW   \n",
       "4                      31014                    Lynn & 19th St North   \n",
       "...                      ...                                     ...   \n",
       "161873                 31011                  Crystal Dr & 23rd St S   \n",
       "161874                 31125                          15th & W St NW   \n",
       "161875                 31047                       Braddock Rd Metro   \n",
       "161876                 31236  37th & O St NW / Georgetown University   \n",
       "161877                 31227               13th St & New York Ave NW   \n",
       "\n",
       "        End station number                                        End station  \\\n",
       "0                    31200               Massachusetts Ave & Dupont Circle NW   \n",
       "1                    31114                           18th St & Wyoming Ave NW   \n",
       "2                    31323  Woodley Park Metro / Calvert St & Connecticut ...   \n",
       "3                    31280                                     11th & S St NW   \n",
       "4                    31923                        Columbia Pike & S Taylor St   \n",
       "...                    ...                                                ...   \n",
       "161873               31009                             Crystal Dr & 27th St S   \n",
       "161874               31281                                      8th & O St NW   \n",
       "161875               31085                    Mount Vernon Ave & E Nelson Ave   \n",
       "161876               31214                              17th & Corcoran St NW   \n",
       "161877               31254                                     15th & K St NW   \n",
       "\n",
       "       Bike number Member type  \n",
       "0           E00141      Member  \n",
       "1           W24067      Casual  \n",
       "2           W22654      Casual  \n",
       "3           W22336      Member  \n",
       "4            70004      Member  \n",
       "...            ...         ...  \n",
       "161873      W21285      Member  \n",
       "161874      W24197      Member  \n",
       "161875      W21281      Member  \n",
       "161876      W00534      Member  \n",
       "161877      W22782      Member  \n",
       "\n",
       "[3041772 rows x 9 columns]"
      ],
      "text/html": "<div>\n<style scoped>\n    .dataframe tbody tr th:only-of-type {\n        vertical-align: middle;\n    }\n\n    .dataframe tbody tr th {\n        vertical-align: top;\n    }\n\n    .dataframe thead th {\n        text-align: right;\n    }\n</style>\n<table border=\"1\" class=\"dataframe\">\n  <thead>\n    <tr style=\"text-align: right;\">\n      <th></th>\n      <th>Duration</th>\n      <th>Start date</th>\n      <th>End date</th>\n      <th>Start station number</th>\n      <th>Start station</th>\n      <th>End station number</th>\n      <th>End station</th>\n      <th>Bike number</th>\n      <th>Member type</th>\n    </tr>\n  </thead>\n  <tbody>\n    <tr>\n      <th>0</th>\n      <td>230</td>\n      <td>2019-01-01 00:04:48</td>\n      <td>2019-01-01 00:08:39</td>\n      <td>31203</td>\n      <td>14th &amp; Rhode Island Ave NW</td>\n      <td>31200</td>\n      <td>Massachusetts Ave &amp; Dupont Circle NW</td>\n      <td>E00141</td>\n      <td>Member</td>\n    </tr>\n    <tr>\n      <th>1</th>\n      <td>1549</td>\n      <td>2019-01-01 00:06:37</td>\n      <td>2019-01-01 00:32:27</td>\n      <td>31321</td>\n      <td>15th St &amp; Constitution Ave NW</td>\n      <td>31114</td>\n      <td>18th St &amp; Wyoming Ave NW</td>\n      <td>W24067</td>\n      <td>Casual</td>\n    </tr>\n    <tr>\n      <th>2</th>\n      <td>177</td>\n      <td>2019-01-01 00:08:46</td>\n      <td>2019-01-01 00:11:44</td>\n      <td>31104</td>\n      <td>Adams Mill &amp; Columbia Rd NW</td>\n      <td>31323</td>\n      <td>Woodley Park Metro / Calvert St &amp; Connecticut ...</td>\n      <td>W22654</td>\n      <td>Casual</td>\n    </tr>\n    <tr>\n      <th>3</th>\n      <td>228</td>\n      <td>2019-01-01 00:08:47</td>\n      <td>2019-01-01 00:12:35</td>\n      <td>31281</td>\n      <td>8th &amp; O St NW</td>\n      <td>31280</td>\n      <td>11th &amp; S St NW</td>\n      <td>W22336</td>\n      <td>Member</td>\n    </tr>\n    <tr>\n      <th>4</th>\n      <td>1300</td>\n      <td>2019-01-01 00:12:29</td>\n      <td>2019-01-01 00:34:10</td>\n      <td>31014</td>\n      <td>Lynn &amp; 19th St North</td>\n      <td>31923</td>\n      <td>Columbia Pike &amp; S Taylor St</td>\n      <td>70004</td>\n      <td>Member</td>\n    </tr>\n    <tr>\n      <th>...</th>\n      <td>...</td>\n      <td>...</td>\n      <td>...</td>\n      <td>...</td>\n      <td>...</td>\n      <td>...</td>\n      <td>...</td>\n      <td>...</td>\n      <td>...</td>\n    </tr>\n    <tr>\n      <th>161873</th>\n      <td>130</td>\n      <td>2019-12-31 23:57:36</td>\n      <td>2019-12-31 23:59:46</td>\n      <td>31011</td>\n      <td>Crystal Dr &amp; 23rd St S</td>\n      <td>31009</td>\n      <td>Crystal Dr &amp; 27th St S</td>\n      <td>W21285</td>\n      <td>Member</td>\n    </tr>\n    <tr>\n      <th>161874</th>\n      <td>664</td>\n      <td>2019-12-31 23:57:47</td>\n      <td>2020-01-01 00:08:51</td>\n      <td>31125</td>\n      <td>15th &amp; W St NW</td>\n      <td>31281</td>\n      <td>8th &amp; O St NW</td>\n      <td>W24197</td>\n      <td>Member</td>\n    </tr>\n    <tr>\n      <th>161875</th>\n      <td>389</td>\n      <td>2019-12-31 23:59:37</td>\n      <td>2020-01-01 00:06:06</td>\n      <td>31047</td>\n      <td>Braddock Rd Metro</td>\n      <td>31085</td>\n      <td>Mount Vernon Ave &amp; E Nelson Ave</td>\n      <td>W21281</td>\n      <td>Member</td>\n    </tr>\n    <tr>\n      <th>161876</th>\n      <td>962</td>\n      <td>2019-12-31 23:59:38</td>\n      <td>2020-01-01 00:15:40</td>\n      <td>31236</td>\n      <td>37th &amp; O St NW / Georgetown University</td>\n      <td>31214</td>\n      <td>17th &amp; Corcoran St NW</td>\n      <td>W00534</td>\n      <td>Member</td>\n    </tr>\n    <tr>\n      <th>161877</th>\n      <td>183</td>\n      <td>2019-12-31 23:59:55</td>\n      <td>2020-01-01 00:02:58</td>\n      <td>31227</td>\n      <td>13th St &amp; New York Ave NW</td>\n      <td>31254</td>\n      <td>15th &amp; K St NW</td>\n      <td>W22782</td>\n      <td>Member</td>\n    </tr>\n  </tbody>\n</table>\n<p>3041772 rows × 9 columns</p>\n</div>"
     },
     "metadata": {},
     "execution_count": 3
    }
   ],
   "source": [
    "y2019 = pd.concat([jan2019,feb2019,mar2019,apr2019,may2019,jun2019,aug2019,sep2019,oct2019,nov2019,dec2019], axis=0)\n",
    "y2019"
   ]
  },
  {
   "cell_type": "code",
   "execution_count": 4,
   "metadata": {},
   "outputs": [
    {
     "output_type": "stream",
     "name": "stdout",
     "text": [
      "<class 'pandas.core.frame.DataFrame'>\nInt64Index: 3041772 entries, 0 to 161877\nData columns (total 9 columns):\n #   Column                Dtype \n---  ------                ----- \n 0   Duration              int64 \n 1   Start date            object\n 2   End date              object\n 3   Start station number  int64 \n 4   Start station         object\n 5   End station number    int64 \n 6   End station           object\n 7   Bike number           object\n 8   Member type           object\ndtypes: int64(3), object(6)\nmemory usage: 232.1+ MB\n"
     ]
    }
   ],
   "source": [
    "y2019.info()"
   ]
  },
  {
   "cell_type": "code",
   "execution_count": 5,
   "metadata": {},
   "outputs": [
    {
     "output_type": "execute_result",
     "data": {
      "text/plain": [
       "   Duration          Start date             End date  Start station number  \\\n",
       "0       230 2019-01-01 00:04:48  2019-01-01 00:08:39                 31203   \n",
       "1      1549 2019-01-01 00:06:37  2019-01-01 00:32:27                 31321   \n",
       "2       177 2019-01-01 00:08:46  2019-01-01 00:11:44                 31104   \n",
       "3       228 2019-01-01 00:08:47  2019-01-01 00:12:35                 31281   \n",
       "4      1300 2019-01-01 00:12:29  2019-01-01 00:34:10                 31014   \n",
       "\n",
       "                   Start station  End station number  \\\n",
       "0     14th & Rhode Island Ave NW               31200   \n",
       "1  15th St & Constitution Ave NW               31114   \n",
       "2    Adams Mill & Columbia Rd NW               31323   \n",
       "3                  8th & O St NW               31280   \n",
       "4           Lynn & 19th St North               31923   \n",
       "\n",
       "                                         End station Bike number Member type  \\\n",
       "0               Massachusetts Ave & Dupont Circle NW      E00141      Member   \n",
       "1                           18th St & Wyoming Ave NW      W24067      Casual   \n",
       "2  Woodley Park Metro / Calvert St & Connecticut ...      W22654      Casual   \n",
       "3                                     11th & S St NW      W22336      Member   \n",
       "4                        Columbia Pike & S Taylor St       70004      Member   \n",
       "\n",
       "         date      time  \n",
       "0  2019-01-01  00:04:48  \n",
       "1  2019-01-01  00:06:37  \n",
       "2  2019-01-01  00:08:46  \n",
       "3  2019-01-01  00:08:47  \n",
       "4  2019-01-01  00:12:29  "
      ],
      "text/html": "<div>\n<style scoped>\n    .dataframe tbody tr th:only-of-type {\n        vertical-align: middle;\n    }\n\n    .dataframe tbody tr th {\n        vertical-align: top;\n    }\n\n    .dataframe thead th {\n        text-align: right;\n    }\n</style>\n<table border=\"1\" class=\"dataframe\">\n  <thead>\n    <tr style=\"text-align: right;\">\n      <th></th>\n      <th>Duration</th>\n      <th>Start date</th>\n      <th>End date</th>\n      <th>Start station number</th>\n      <th>Start station</th>\n      <th>End station number</th>\n      <th>End station</th>\n      <th>Bike number</th>\n      <th>Member type</th>\n      <th>date</th>\n      <th>time</th>\n    </tr>\n  </thead>\n  <tbody>\n    <tr>\n      <th>0</th>\n      <td>230</td>\n      <td>2019-01-01 00:04:48</td>\n      <td>2019-01-01 00:08:39</td>\n      <td>31203</td>\n      <td>14th &amp; Rhode Island Ave NW</td>\n      <td>31200</td>\n      <td>Massachusetts Ave &amp; Dupont Circle NW</td>\n      <td>E00141</td>\n      <td>Member</td>\n      <td>2019-01-01</td>\n      <td>00:04:48</td>\n    </tr>\n    <tr>\n      <th>1</th>\n      <td>1549</td>\n      <td>2019-01-01 00:06:37</td>\n      <td>2019-01-01 00:32:27</td>\n      <td>31321</td>\n      <td>15th St &amp; Constitution Ave NW</td>\n      <td>31114</td>\n      <td>18th St &amp; Wyoming Ave NW</td>\n      <td>W24067</td>\n      <td>Casual</td>\n      <td>2019-01-01</td>\n      <td>00:06:37</td>\n    </tr>\n    <tr>\n      <th>2</th>\n      <td>177</td>\n      <td>2019-01-01 00:08:46</td>\n      <td>2019-01-01 00:11:44</td>\n      <td>31104</td>\n      <td>Adams Mill &amp; Columbia Rd NW</td>\n      <td>31323</td>\n      <td>Woodley Park Metro / Calvert St &amp; Connecticut ...</td>\n      <td>W22654</td>\n      <td>Casual</td>\n      <td>2019-01-01</td>\n      <td>00:08:46</td>\n    </tr>\n    <tr>\n      <th>3</th>\n      <td>228</td>\n      <td>2019-01-01 00:08:47</td>\n      <td>2019-01-01 00:12:35</td>\n      <td>31281</td>\n      <td>8th &amp; O St NW</td>\n      <td>31280</td>\n      <td>11th &amp; S St NW</td>\n      <td>W22336</td>\n      <td>Member</td>\n      <td>2019-01-01</td>\n      <td>00:08:47</td>\n    </tr>\n    <tr>\n      <th>4</th>\n      <td>1300</td>\n      <td>2019-01-01 00:12:29</td>\n      <td>2019-01-01 00:34:10</td>\n      <td>31014</td>\n      <td>Lynn &amp; 19th St North</td>\n      <td>31923</td>\n      <td>Columbia Pike &amp; S Taylor St</td>\n      <td>70004</td>\n      <td>Member</td>\n      <td>2019-01-01</td>\n      <td>00:12:29</td>\n    </tr>\n  </tbody>\n</table>\n</div>"
     },
     "metadata": {},
     "execution_count": 5
    }
   ],
   "source": [
    "y2019['Start date'] = pd.to_datetime(y2019['Start date'])\n",
    "\n",
    "y2019['date'] = y2019['Start date'].dt.date\n",
    "\n",
    "y2019['time'] = y2019['Start date'].dt.time\n",
    "y2019.head()"
   ]
  },
  {
   "cell_type": "code",
   "execution_count": 6,
   "metadata": {},
   "outputs": [
    {
     "output_type": "execute_result",
     "data": {
      "text/plain": [
       "   Duration          Start date             End date  Start station number  \\\n",
       "0       230 2019-01-01 00:04:48  2019-01-01 00:08:39                 31203   \n",
       "1      1549 2019-01-01 00:06:37  2019-01-01 00:32:27                 31321   \n",
       "2       177 2019-01-01 00:08:46  2019-01-01 00:11:44                 31104   \n",
       "3       228 2019-01-01 00:08:47  2019-01-01 00:12:35                 31281   \n",
       "4      1300 2019-01-01 00:12:29  2019-01-01 00:34:10                 31014   \n",
       "\n",
       "                   Start station  End station number  \\\n",
       "0     14th & Rhode Island Ave NW               31200   \n",
       "1  15th St & Constitution Ave NW               31114   \n",
       "2    Adams Mill & Columbia Rd NW               31323   \n",
       "3                  8th & O St NW               31280   \n",
       "4           Lynn & 19th St North               31923   \n",
       "\n",
       "                                         End station Bike number Member type  \\\n",
       "0               Massachusetts Ave & Dupont Circle NW      E00141      Member   \n",
       "1                           18th St & Wyoming Ave NW      W24067      Casual   \n",
       "2  Woodley Park Metro / Calvert St & Connecticut ...      W22654      Casual   \n",
       "3                                     11th & S St NW      W22336      Member   \n",
       "4                        Columbia Pike & S Taylor St       70004      Member   \n",
       "\n",
       "         date      time  month  \n",
       "0  2019-01-01  00:04:48      1  \n",
       "1  2019-01-01  00:06:37      1  \n",
       "2  2019-01-01  00:08:46      1  \n",
       "3  2019-01-01  00:08:47      1  \n",
       "4  2019-01-01  00:12:29      1  "
      ],
      "text/html": "<div>\n<style scoped>\n    .dataframe tbody tr th:only-of-type {\n        vertical-align: middle;\n    }\n\n    .dataframe tbody tr th {\n        vertical-align: top;\n    }\n\n    .dataframe thead th {\n        text-align: right;\n    }\n</style>\n<table border=\"1\" class=\"dataframe\">\n  <thead>\n    <tr style=\"text-align: right;\">\n      <th></th>\n      <th>Duration</th>\n      <th>Start date</th>\n      <th>End date</th>\n      <th>Start station number</th>\n      <th>Start station</th>\n      <th>End station number</th>\n      <th>End station</th>\n      <th>Bike number</th>\n      <th>Member type</th>\n      <th>date</th>\n      <th>time</th>\n      <th>month</th>\n    </tr>\n  </thead>\n  <tbody>\n    <tr>\n      <th>0</th>\n      <td>230</td>\n      <td>2019-01-01 00:04:48</td>\n      <td>2019-01-01 00:08:39</td>\n      <td>31203</td>\n      <td>14th &amp; Rhode Island Ave NW</td>\n      <td>31200</td>\n      <td>Massachusetts Ave &amp; Dupont Circle NW</td>\n      <td>E00141</td>\n      <td>Member</td>\n      <td>2019-01-01</td>\n      <td>00:04:48</td>\n      <td>1</td>\n    </tr>\n    <tr>\n      <th>1</th>\n      <td>1549</td>\n      <td>2019-01-01 00:06:37</td>\n      <td>2019-01-01 00:32:27</td>\n      <td>31321</td>\n      <td>15th St &amp; Constitution Ave NW</td>\n      <td>31114</td>\n      <td>18th St &amp; Wyoming Ave NW</td>\n      <td>W24067</td>\n      <td>Casual</td>\n      <td>2019-01-01</td>\n      <td>00:06:37</td>\n      <td>1</td>\n    </tr>\n    <tr>\n      <th>2</th>\n      <td>177</td>\n      <td>2019-01-01 00:08:46</td>\n      <td>2019-01-01 00:11:44</td>\n      <td>31104</td>\n      <td>Adams Mill &amp; Columbia Rd NW</td>\n      <td>31323</td>\n      <td>Woodley Park Metro / Calvert St &amp; Connecticut ...</td>\n      <td>W22654</td>\n      <td>Casual</td>\n      <td>2019-01-01</td>\n      <td>00:08:46</td>\n      <td>1</td>\n    </tr>\n    <tr>\n      <th>3</th>\n      <td>228</td>\n      <td>2019-01-01 00:08:47</td>\n      <td>2019-01-01 00:12:35</td>\n      <td>31281</td>\n      <td>8th &amp; O St NW</td>\n      <td>31280</td>\n      <td>11th &amp; S St NW</td>\n      <td>W22336</td>\n      <td>Member</td>\n      <td>2019-01-01</td>\n      <td>00:08:47</td>\n      <td>1</td>\n    </tr>\n    <tr>\n      <th>4</th>\n      <td>1300</td>\n      <td>2019-01-01 00:12:29</td>\n      <td>2019-01-01 00:34:10</td>\n      <td>31014</td>\n      <td>Lynn &amp; 19th St North</td>\n      <td>31923</td>\n      <td>Columbia Pike &amp; S Taylor St</td>\n      <td>70004</td>\n      <td>Member</td>\n      <td>2019-01-01</td>\n      <td>00:12:29</td>\n      <td>1</td>\n    </tr>\n  </tbody>\n</table>\n</div>"
     },
     "metadata": {},
     "execution_count": 6
    }
   ],
   "source": [
    "y2019['month'] = y2019['Start date'].dt.month\n",
    "y2019.head()"
   ]
  },
  {
   "cell_type": "code",
   "execution_count": 7,
   "metadata": {},
   "outputs": [],
   "source": [
    "y2019.loc[y2019['month'] == 1, 'month'] = 'January'\n",
    "y2019.loc[y2019['month'] == 2, 'month'] = 'February'\n",
    "y2019.loc[y2019['month'] == 3, 'month'] = 'March'\n",
    "y2019.loc[y2019['month'] == 4, 'month'] = 'April'\n",
    "y2019.loc[y2019['month'] == 5, 'month'] = 'May'\n",
    "y2019.loc[y2019['month'] == 6, 'month'] = 'June'\n",
    "y2019.loc[y2019['month'] == 7, 'month'] = 'July'\n",
    "y2019.loc[y2019['month'] == 8, 'month'] = 'August'\n",
    "y2019.loc[y2019['month'] == 9, 'month'] = 'September'\n",
    "y2019.loc[y2019['month'] == 10, 'month'] = 'October'\n",
    "y2019.loc[y2019['month'] == 11, 'month'] = 'November'\n",
    "y2019.loc[y2019['month'] == 12, 'month'] = 'December'"
   ]
  },
  {
   "cell_type": "code",
   "execution_count": 8,
   "metadata": {},
   "outputs": [
    {
     "output_type": "execute_result",
     "data": {
      "text/plain": [
       "        Duration          Start date             End date  \\\n",
       "0            230 2019-01-01 00:04:48  2019-01-01 00:08:39   \n",
       "1           1549 2019-01-01 00:06:37  2019-01-01 00:32:27   \n",
       "2            177 2019-01-01 00:08:46  2019-01-01 00:11:44   \n",
       "3            228 2019-01-01 00:08:47  2019-01-01 00:12:35   \n",
       "4           1300 2019-01-01 00:12:29  2019-01-01 00:34:10   \n",
       "...          ...                 ...                  ...   \n",
       "161873       130 2019-12-31 23:57:36  2019-12-31 23:59:46   \n",
       "161874       664 2019-12-31 23:57:47  2020-01-01 00:08:51   \n",
       "161875       389 2019-12-31 23:59:37  2020-01-01 00:06:06   \n",
       "161876       962 2019-12-31 23:59:38  2020-01-01 00:15:40   \n",
       "161877       183 2019-12-31 23:59:55  2020-01-01 00:02:58   \n",
       "\n",
       "        Start station number                           Start station  \\\n",
       "0                      31203              14th & Rhode Island Ave NW   \n",
       "1                      31321           15th St & Constitution Ave NW   \n",
       "2                      31104             Adams Mill & Columbia Rd NW   \n",
       "3                      31281                           8th & O St NW   \n",
       "4                      31014                    Lynn & 19th St North   \n",
       "...                      ...                                     ...   \n",
       "161873                 31011                  Crystal Dr & 23rd St S   \n",
       "161874                 31125                          15th & W St NW   \n",
       "161875                 31047                       Braddock Rd Metro   \n",
       "161876                 31236  37th & O St NW / Georgetown University   \n",
       "161877                 31227               13th St & New York Ave NW   \n",
       "\n",
       "        End station number                                        End station  \\\n",
       "0                    31200               Massachusetts Ave & Dupont Circle NW   \n",
       "1                    31114                           18th St & Wyoming Ave NW   \n",
       "2                    31323  Woodley Park Metro / Calvert St & Connecticut ...   \n",
       "3                    31280                                     11th & S St NW   \n",
       "4                    31923                        Columbia Pike & S Taylor St   \n",
       "...                    ...                                                ...   \n",
       "161873               31009                             Crystal Dr & 27th St S   \n",
       "161874               31281                                      8th & O St NW   \n",
       "161875               31085                    Mount Vernon Ave & E Nelson Ave   \n",
       "161876               31214                              17th & Corcoran St NW   \n",
       "161877               31254                                     15th & K St NW   \n",
       "\n",
       "       Bike number Member type        date      time     month  \n",
       "0           E00141      Member  2019-01-01  00:04:48   January  \n",
       "1           W24067      Casual  2019-01-01  00:06:37   January  \n",
       "2           W22654      Casual  2019-01-01  00:08:46   January  \n",
       "3           W22336      Member  2019-01-01  00:08:47   January  \n",
       "4            70004      Member  2019-01-01  00:12:29   January  \n",
       "...            ...         ...         ...       ...       ...  \n",
       "161873      W21285      Member  2019-12-31  23:57:36  December  \n",
       "161874      W24197      Member  2019-12-31  23:57:47  December  \n",
       "161875      W21281      Member  2019-12-31  23:59:37  December  \n",
       "161876      W00534      Member  2019-12-31  23:59:38  December  \n",
       "161877      W22782      Member  2019-12-31  23:59:55  December  \n",
       "\n",
       "[3041772 rows x 12 columns]"
      ],
      "text/html": "<div>\n<style scoped>\n    .dataframe tbody tr th:only-of-type {\n        vertical-align: middle;\n    }\n\n    .dataframe tbody tr th {\n        vertical-align: top;\n    }\n\n    .dataframe thead th {\n        text-align: right;\n    }\n</style>\n<table border=\"1\" class=\"dataframe\">\n  <thead>\n    <tr style=\"text-align: right;\">\n      <th></th>\n      <th>Duration</th>\n      <th>Start date</th>\n      <th>End date</th>\n      <th>Start station number</th>\n      <th>Start station</th>\n      <th>End station number</th>\n      <th>End station</th>\n      <th>Bike number</th>\n      <th>Member type</th>\n      <th>date</th>\n      <th>time</th>\n      <th>month</th>\n    </tr>\n  </thead>\n  <tbody>\n    <tr>\n      <th>0</th>\n      <td>230</td>\n      <td>2019-01-01 00:04:48</td>\n      <td>2019-01-01 00:08:39</td>\n      <td>31203</td>\n      <td>14th &amp; Rhode Island Ave NW</td>\n      <td>31200</td>\n      <td>Massachusetts Ave &amp; Dupont Circle NW</td>\n      <td>E00141</td>\n      <td>Member</td>\n      <td>2019-01-01</td>\n      <td>00:04:48</td>\n      <td>January</td>\n    </tr>\n    <tr>\n      <th>1</th>\n      <td>1549</td>\n      <td>2019-01-01 00:06:37</td>\n      <td>2019-01-01 00:32:27</td>\n      <td>31321</td>\n      <td>15th St &amp; Constitution Ave NW</td>\n      <td>31114</td>\n      <td>18th St &amp; Wyoming Ave NW</td>\n      <td>W24067</td>\n      <td>Casual</td>\n      <td>2019-01-01</td>\n      <td>00:06:37</td>\n      <td>January</td>\n    </tr>\n    <tr>\n      <th>2</th>\n      <td>177</td>\n      <td>2019-01-01 00:08:46</td>\n      <td>2019-01-01 00:11:44</td>\n      <td>31104</td>\n      <td>Adams Mill &amp; Columbia Rd NW</td>\n      <td>31323</td>\n      <td>Woodley Park Metro / Calvert St &amp; Connecticut ...</td>\n      <td>W22654</td>\n      <td>Casual</td>\n      <td>2019-01-01</td>\n      <td>00:08:46</td>\n      <td>January</td>\n    </tr>\n    <tr>\n      <th>3</th>\n      <td>228</td>\n      <td>2019-01-01 00:08:47</td>\n      <td>2019-01-01 00:12:35</td>\n      <td>31281</td>\n      <td>8th &amp; O St NW</td>\n      <td>31280</td>\n      <td>11th &amp; S St NW</td>\n      <td>W22336</td>\n      <td>Member</td>\n      <td>2019-01-01</td>\n      <td>00:08:47</td>\n      <td>January</td>\n    </tr>\n    <tr>\n      <th>4</th>\n      <td>1300</td>\n      <td>2019-01-01 00:12:29</td>\n      <td>2019-01-01 00:34:10</td>\n      <td>31014</td>\n      <td>Lynn &amp; 19th St North</td>\n      <td>31923</td>\n      <td>Columbia Pike &amp; S Taylor St</td>\n      <td>70004</td>\n      <td>Member</td>\n      <td>2019-01-01</td>\n      <td>00:12:29</td>\n      <td>January</td>\n    </tr>\n    <tr>\n      <th>...</th>\n      <td>...</td>\n      <td>...</td>\n      <td>...</td>\n      <td>...</td>\n      <td>...</td>\n      <td>...</td>\n      <td>...</td>\n      <td>...</td>\n      <td>...</td>\n      <td>...</td>\n      <td>...</td>\n      <td>...</td>\n    </tr>\n    <tr>\n      <th>161873</th>\n      <td>130</td>\n      <td>2019-12-31 23:57:36</td>\n      <td>2019-12-31 23:59:46</td>\n      <td>31011</td>\n      <td>Crystal Dr &amp; 23rd St S</td>\n      <td>31009</td>\n      <td>Crystal Dr &amp; 27th St S</td>\n      <td>W21285</td>\n      <td>Member</td>\n      <td>2019-12-31</td>\n      <td>23:57:36</td>\n      <td>December</td>\n    </tr>\n    <tr>\n      <th>161874</th>\n      <td>664</td>\n      <td>2019-12-31 23:57:47</td>\n      <td>2020-01-01 00:08:51</td>\n      <td>31125</td>\n      <td>15th &amp; W St NW</td>\n      <td>31281</td>\n      <td>8th &amp; O St NW</td>\n      <td>W24197</td>\n      <td>Member</td>\n      <td>2019-12-31</td>\n      <td>23:57:47</td>\n      <td>December</td>\n    </tr>\n    <tr>\n      <th>161875</th>\n      <td>389</td>\n      <td>2019-12-31 23:59:37</td>\n      <td>2020-01-01 00:06:06</td>\n      <td>31047</td>\n      <td>Braddock Rd Metro</td>\n      <td>31085</td>\n      <td>Mount Vernon Ave &amp; E Nelson Ave</td>\n      <td>W21281</td>\n      <td>Member</td>\n      <td>2019-12-31</td>\n      <td>23:59:37</td>\n      <td>December</td>\n    </tr>\n    <tr>\n      <th>161876</th>\n      <td>962</td>\n      <td>2019-12-31 23:59:38</td>\n      <td>2020-01-01 00:15:40</td>\n      <td>31236</td>\n      <td>37th &amp; O St NW / Georgetown University</td>\n      <td>31214</td>\n      <td>17th &amp; Corcoran St NW</td>\n      <td>W00534</td>\n      <td>Member</td>\n      <td>2019-12-31</td>\n      <td>23:59:38</td>\n      <td>December</td>\n    </tr>\n    <tr>\n      <th>161877</th>\n      <td>183</td>\n      <td>2019-12-31 23:59:55</td>\n      <td>2020-01-01 00:02:58</td>\n      <td>31227</td>\n      <td>13th St &amp; New York Ave NW</td>\n      <td>31254</td>\n      <td>15th &amp; K St NW</td>\n      <td>W22782</td>\n      <td>Member</td>\n      <td>2019-12-31</td>\n      <td>23:59:55</td>\n      <td>December</td>\n    </tr>\n  </tbody>\n</table>\n<p>3041772 rows × 12 columns</p>\n</div>"
     },
     "metadata": {},
     "execution_count": 8
    }
   ],
   "source": [
    "y2019"
   ]
  },
  {
   "cell_type": "code",
   "execution_count": 9,
   "metadata": {},
   "outputs": [
    {
     "output_type": "execute_result",
     "data": {
      "text/plain": [
       "        Duration          Start date             End date  \\\n",
       "0            230 2019-01-01 00:04:48  2019-01-01 00:08:39   \n",
       "1           1549 2019-01-01 00:06:37  2019-01-01 00:32:27   \n",
       "2            177 2019-01-01 00:08:46  2019-01-01 00:11:44   \n",
       "3            228 2019-01-01 00:08:47  2019-01-01 00:12:35   \n",
       "4           1300 2019-01-01 00:12:29  2019-01-01 00:34:10   \n",
       "...          ...                 ...                  ...   \n",
       "161873       130 2019-12-31 23:57:36  2019-12-31 23:59:46   \n",
       "161874       664 2019-12-31 23:57:47  2020-01-01 00:08:51   \n",
       "161875       389 2019-12-31 23:59:37  2020-01-01 00:06:06   \n",
       "161876       962 2019-12-31 23:59:38  2020-01-01 00:15:40   \n",
       "161877       183 2019-12-31 23:59:55  2020-01-01 00:02:58   \n",
       "\n",
       "        Start station number                           Start station  \\\n",
       "0                      31203              14th & Rhode Island Ave NW   \n",
       "1                      31321           15th St & Constitution Ave NW   \n",
       "2                      31104             Adams Mill & Columbia Rd NW   \n",
       "3                      31281                           8th & O St NW   \n",
       "4                      31014                    Lynn & 19th St North   \n",
       "...                      ...                                     ...   \n",
       "161873                 31011                  Crystal Dr & 23rd St S   \n",
       "161874                 31125                          15th & W St NW   \n",
       "161875                 31047                       Braddock Rd Metro   \n",
       "161876                 31236  37th & O St NW / Georgetown University   \n",
       "161877                 31227               13th St & New York Ave NW   \n",
       "\n",
       "        End station number                                        End station  \\\n",
       "0                    31200               Massachusetts Ave & Dupont Circle NW   \n",
       "1                    31114                           18th St & Wyoming Ave NW   \n",
       "2                    31323  Woodley Park Metro / Calvert St & Connecticut ...   \n",
       "3                    31280                                     11th & S St NW   \n",
       "4                    31923                        Columbia Pike & S Taylor St   \n",
       "...                    ...                                                ...   \n",
       "161873               31009                             Crystal Dr & 27th St S   \n",
       "161874               31281                                      8th & O St NW   \n",
       "161875               31085                    Mount Vernon Ave & E Nelson Ave   \n",
       "161876               31214                              17th & Corcoran St NW   \n",
       "161877               31254                                     15th & K St NW   \n",
       "\n",
       "       Bike number Member type        date      time     month  weekday  \n",
       "0           E00141      Member  2019-01-01  00:04:48   January        1  \n",
       "1           W24067      Casual  2019-01-01  00:06:37   January        1  \n",
       "2           W22654      Casual  2019-01-01  00:08:46   January        1  \n",
       "3           W22336      Member  2019-01-01  00:08:47   January        1  \n",
       "4            70004      Member  2019-01-01  00:12:29   January        1  \n",
       "...            ...         ...         ...       ...       ...      ...  \n",
       "161873      W21285      Member  2019-12-31  23:57:36  December        1  \n",
       "161874      W24197      Member  2019-12-31  23:57:47  December        1  \n",
       "161875      W21281      Member  2019-12-31  23:59:37  December        1  \n",
       "161876      W00534      Member  2019-12-31  23:59:38  December        1  \n",
       "161877      W22782      Member  2019-12-31  23:59:55  December        1  \n",
       "\n",
       "[3041772 rows x 13 columns]"
      ],
      "text/html": "<div>\n<style scoped>\n    .dataframe tbody tr th:only-of-type {\n        vertical-align: middle;\n    }\n\n    .dataframe tbody tr th {\n        vertical-align: top;\n    }\n\n    .dataframe thead th {\n        text-align: right;\n    }\n</style>\n<table border=\"1\" class=\"dataframe\">\n  <thead>\n    <tr style=\"text-align: right;\">\n      <th></th>\n      <th>Duration</th>\n      <th>Start date</th>\n      <th>End date</th>\n      <th>Start station number</th>\n      <th>Start station</th>\n      <th>End station number</th>\n      <th>End station</th>\n      <th>Bike number</th>\n      <th>Member type</th>\n      <th>date</th>\n      <th>time</th>\n      <th>month</th>\n      <th>weekday</th>\n    </tr>\n  </thead>\n  <tbody>\n    <tr>\n      <th>0</th>\n      <td>230</td>\n      <td>2019-01-01 00:04:48</td>\n      <td>2019-01-01 00:08:39</td>\n      <td>31203</td>\n      <td>14th &amp; Rhode Island Ave NW</td>\n      <td>31200</td>\n      <td>Massachusetts Ave &amp; Dupont Circle NW</td>\n      <td>E00141</td>\n      <td>Member</td>\n      <td>2019-01-01</td>\n      <td>00:04:48</td>\n      <td>January</td>\n      <td>1</td>\n    </tr>\n    <tr>\n      <th>1</th>\n      <td>1549</td>\n      <td>2019-01-01 00:06:37</td>\n      <td>2019-01-01 00:32:27</td>\n      <td>31321</td>\n      <td>15th St &amp; Constitution Ave NW</td>\n      <td>31114</td>\n      <td>18th St &amp; Wyoming Ave NW</td>\n      <td>W24067</td>\n      <td>Casual</td>\n      <td>2019-01-01</td>\n      <td>00:06:37</td>\n      <td>January</td>\n      <td>1</td>\n    </tr>\n    <tr>\n      <th>2</th>\n      <td>177</td>\n      <td>2019-01-01 00:08:46</td>\n      <td>2019-01-01 00:11:44</td>\n      <td>31104</td>\n      <td>Adams Mill &amp; Columbia Rd NW</td>\n      <td>31323</td>\n      <td>Woodley Park Metro / Calvert St &amp; Connecticut ...</td>\n      <td>W22654</td>\n      <td>Casual</td>\n      <td>2019-01-01</td>\n      <td>00:08:46</td>\n      <td>January</td>\n      <td>1</td>\n    </tr>\n    <tr>\n      <th>3</th>\n      <td>228</td>\n      <td>2019-01-01 00:08:47</td>\n      <td>2019-01-01 00:12:35</td>\n      <td>31281</td>\n      <td>8th &amp; O St NW</td>\n      <td>31280</td>\n      <td>11th &amp; S St NW</td>\n      <td>W22336</td>\n      <td>Member</td>\n      <td>2019-01-01</td>\n      <td>00:08:47</td>\n      <td>January</td>\n      <td>1</td>\n    </tr>\n    <tr>\n      <th>4</th>\n      <td>1300</td>\n      <td>2019-01-01 00:12:29</td>\n      <td>2019-01-01 00:34:10</td>\n      <td>31014</td>\n      <td>Lynn &amp; 19th St North</td>\n      <td>31923</td>\n      <td>Columbia Pike &amp; S Taylor St</td>\n      <td>70004</td>\n      <td>Member</td>\n      <td>2019-01-01</td>\n      <td>00:12:29</td>\n      <td>January</td>\n      <td>1</td>\n    </tr>\n    <tr>\n      <th>...</th>\n      <td>...</td>\n      <td>...</td>\n      <td>...</td>\n      <td>...</td>\n      <td>...</td>\n      <td>...</td>\n      <td>...</td>\n      <td>...</td>\n      <td>...</td>\n      <td>...</td>\n      <td>...</td>\n      <td>...</td>\n      <td>...</td>\n    </tr>\n    <tr>\n      <th>161873</th>\n      <td>130</td>\n      <td>2019-12-31 23:57:36</td>\n      <td>2019-12-31 23:59:46</td>\n      <td>31011</td>\n      <td>Crystal Dr &amp; 23rd St S</td>\n      <td>31009</td>\n      <td>Crystal Dr &amp; 27th St S</td>\n      <td>W21285</td>\n      <td>Member</td>\n      <td>2019-12-31</td>\n      <td>23:57:36</td>\n      <td>December</td>\n      <td>1</td>\n    </tr>\n    <tr>\n      <th>161874</th>\n      <td>664</td>\n      <td>2019-12-31 23:57:47</td>\n      <td>2020-01-01 00:08:51</td>\n      <td>31125</td>\n      <td>15th &amp; W St NW</td>\n      <td>31281</td>\n      <td>8th &amp; O St NW</td>\n      <td>W24197</td>\n      <td>Member</td>\n      <td>2019-12-31</td>\n      <td>23:57:47</td>\n      <td>December</td>\n      <td>1</td>\n    </tr>\n    <tr>\n      <th>161875</th>\n      <td>389</td>\n      <td>2019-12-31 23:59:37</td>\n      <td>2020-01-01 00:06:06</td>\n      <td>31047</td>\n      <td>Braddock Rd Metro</td>\n      <td>31085</td>\n      <td>Mount Vernon Ave &amp; E Nelson Ave</td>\n      <td>W21281</td>\n      <td>Member</td>\n      <td>2019-12-31</td>\n      <td>23:59:37</td>\n      <td>December</td>\n      <td>1</td>\n    </tr>\n    <tr>\n      <th>161876</th>\n      <td>962</td>\n      <td>2019-12-31 23:59:38</td>\n      <td>2020-01-01 00:15:40</td>\n      <td>31236</td>\n      <td>37th &amp; O St NW / Georgetown University</td>\n      <td>31214</td>\n      <td>17th &amp; Corcoran St NW</td>\n      <td>W00534</td>\n      <td>Member</td>\n      <td>2019-12-31</td>\n      <td>23:59:38</td>\n      <td>December</td>\n      <td>1</td>\n    </tr>\n    <tr>\n      <th>161877</th>\n      <td>183</td>\n      <td>2019-12-31 23:59:55</td>\n      <td>2020-01-01 00:02:58</td>\n      <td>31227</td>\n      <td>13th St &amp; New York Ave NW</td>\n      <td>31254</td>\n      <td>15th &amp; K St NW</td>\n      <td>W22782</td>\n      <td>Member</td>\n      <td>2019-12-31</td>\n      <td>23:59:55</td>\n      <td>December</td>\n      <td>1</td>\n    </tr>\n  </tbody>\n</table>\n<p>3041772 rows × 13 columns</p>\n</div>"
     },
     "metadata": {},
     "execution_count": 9
    }
   ],
   "source": [
    "y2019['weekday'] = y2019['Start date'].dt.weekday\n",
    "y2019"
   ]
  },
  {
   "cell_type": "code",
   "execution_count": 10,
   "metadata": {},
   "outputs": [],
   "source": [
    "y2019.loc[y2019['weekday'] == 1, 'weekday'] = 'Monday'\n",
    "y2019.loc[y2019['weekday'] == 2, 'weekday'] = 'Tuesday'\n",
    "y2019.loc[y2019['weekday'] == 3, 'weekday'] = 'Wednesday'\n",
    "y2019.loc[y2019['weekday'] == 4, 'weekday'] = 'Thursday'\n",
    "y2019.loc[y2019['weekday'] == 5, 'weekday'] = 'Friday'\n",
    "y2019.loc[y2019['weekday'] == 6, 'weekday'] = 'Saturday'\n",
    "y2019.loc[y2019['weekday'] == 7, 'weekday'] = 'Sunday'"
   ]
  },
  {
   "cell_type": "code",
   "execution_count": 11,
   "metadata": {},
   "outputs": [
    {
     "output_type": "execute_result",
     "data": {
      "text/plain": [
       "        Duration          Start date             End date  \\\n",
       "0            230 2019-01-01 00:04:48  2019-01-01 00:08:39   \n",
       "1           1549 2019-01-01 00:06:37  2019-01-01 00:32:27   \n",
       "2            177 2019-01-01 00:08:46  2019-01-01 00:11:44   \n",
       "3            228 2019-01-01 00:08:47  2019-01-01 00:12:35   \n",
       "4           1300 2019-01-01 00:12:29  2019-01-01 00:34:10   \n",
       "...          ...                 ...                  ...   \n",
       "161873       130 2019-12-31 23:57:36  2019-12-31 23:59:46   \n",
       "161874       664 2019-12-31 23:57:47  2020-01-01 00:08:51   \n",
       "161875       389 2019-12-31 23:59:37  2020-01-01 00:06:06   \n",
       "161876       962 2019-12-31 23:59:38  2020-01-01 00:15:40   \n",
       "161877       183 2019-12-31 23:59:55  2020-01-01 00:02:58   \n",
       "\n",
       "        Start station number                           Start station  \\\n",
       "0                      31203              14th & Rhode Island Ave NW   \n",
       "1                      31321           15th St & Constitution Ave NW   \n",
       "2                      31104             Adams Mill & Columbia Rd NW   \n",
       "3                      31281                           8th & O St NW   \n",
       "4                      31014                    Lynn & 19th St North   \n",
       "...                      ...                                     ...   \n",
       "161873                 31011                  Crystal Dr & 23rd St S   \n",
       "161874                 31125                          15th & W St NW   \n",
       "161875                 31047                       Braddock Rd Metro   \n",
       "161876                 31236  37th & O St NW / Georgetown University   \n",
       "161877                 31227               13th St & New York Ave NW   \n",
       "\n",
       "        End station number                                        End station  \\\n",
       "0                    31200               Massachusetts Ave & Dupont Circle NW   \n",
       "1                    31114                           18th St & Wyoming Ave NW   \n",
       "2                    31323  Woodley Park Metro / Calvert St & Connecticut ...   \n",
       "3                    31280                                     11th & S St NW   \n",
       "4                    31923                        Columbia Pike & S Taylor St   \n",
       "...                    ...                                                ...   \n",
       "161873               31009                             Crystal Dr & 27th St S   \n",
       "161874               31281                                      8th & O St NW   \n",
       "161875               31085                    Mount Vernon Ave & E Nelson Ave   \n",
       "161876               31214                              17th & Corcoran St NW   \n",
       "161877               31254                                     15th & K St NW   \n",
       "\n",
       "       Bike number Member type        date      time     month weekday  \n",
       "0           E00141      Member  2019-01-01  00:04:48   January  Monday  \n",
       "1           W24067      Casual  2019-01-01  00:06:37   January  Monday  \n",
       "2           W22654      Casual  2019-01-01  00:08:46   January  Monday  \n",
       "3           W22336      Member  2019-01-01  00:08:47   January  Monday  \n",
       "4            70004      Member  2019-01-01  00:12:29   January  Monday  \n",
       "...            ...         ...         ...       ...       ...     ...  \n",
       "161873      W21285      Member  2019-12-31  23:57:36  December  Monday  \n",
       "161874      W24197      Member  2019-12-31  23:57:47  December  Monday  \n",
       "161875      W21281      Member  2019-12-31  23:59:37  December  Monday  \n",
       "161876      W00534      Member  2019-12-31  23:59:38  December  Monday  \n",
       "161877      W22782      Member  2019-12-31  23:59:55  December  Monday  \n",
       "\n",
       "[3041772 rows x 13 columns]"
      ],
      "text/html": "<div>\n<style scoped>\n    .dataframe tbody tr th:only-of-type {\n        vertical-align: middle;\n    }\n\n    .dataframe tbody tr th {\n        vertical-align: top;\n    }\n\n    .dataframe thead th {\n        text-align: right;\n    }\n</style>\n<table border=\"1\" class=\"dataframe\">\n  <thead>\n    <tr style=\"text-align: right;\">\n      <th></th>\n      <th>Duration</th>\n      <th>Start date</th>\n      <th>End date</th>\n      <th>Start station number</th>\n      <th>Start station</th>\n      <th>End station number</th>\n      <th>End station</th>\n      <th>Bike number</th>\n      <th>Member type</th>\n      <th>date</th>\n      <th>time</th>\n      <th>month</th>\n      <th>weekday</th>\n    </tr>\n  </thead>\n  <tbody>\n    <tr>\n      <th>0</th>\n      <td>230</td>\n      <td>2019-01-01 00:04:48</td>\n      <td>2019-01-01 00:08:39</td>\n      <td>31203</td>\n      <td>14th &amp; Rhode Island Ave NW</td>\n      <td>31200</td>\n      <td>Massachusetts Ave &amp; Dupont Circle NW</td>\n      <td>E00141</td>\n      <td>Member</td>\n      <td>2019-01-01</td>\n      <td>00:04:48</td>\n      <td>January</td>\n      <td>Monday</td>\n    </tr>\n    <tr>\n      <th>1</th>\n      <td>1549</td>\n      <td>2019-01-01 00:06:37</td>\n      <td>2019-01-01 00:32:27</td>\n      <td>31321</td>\n      <td>15th St &amp; Constitution Ave NW</td>\n      <td>31114</td>\n      <td>18th St &amp; Wyoming Ave NW</td>\n      <td>W24067</td>\n      <td>Casual</td>\n      <td>2019-01-01</td>\n      <td>00:06:37</td>\n      <td>January</td>\n      <td>Monday</td>\n    </tr>\n    <tr>\n      <th>2</th>\n      <td>177</td>\n      <td>2019-01-01 00:08:46</td>\n      <td>2019-01-01 00:11:44</td>\n      <td>31104</td>\n      <td>Adams Mill &amp; Columbia Rd NW</td>\n      <td>31323</td>\n      <td>Woodley Park Metro / Calvert St &amp; Connecticut ...</td>\n      <td>W22654</td>\n      <td>Casual</td>\n      <td>2019-01-01</td>\n      <td>00:08:46</td>\n      <td>January</td>\n      <td>Monday</td>\n    </tr>\n    <tr>\n      <th>3</th>\n      <td>228</td>\n      <td>2019-01-01 00:08:47</td>\n      <td>2019-01-01 00:12:35</td>\n      <td>31281</td>\n      <td>8th &amp; O St NW</td>\n      <td>31280</td>\n      <td>11th &amp; S St NW</td>\n      <td>W22336</td>\n      <td>Member</td>\n      <td>2019-01-01</td>\n      <td>00:08:47</td>\n      <td>January</td>\n      <td>Monday</td>\n    </tr>\n    <tr>\n      <th>4</th>\n      <td>1300</td>\n      <td>2019-01-01 00:12:29</td>\n      <td>2019-01-01 00:34:10</td>\n      <td>31014</td>\n      <td>Lynn &amp; 19th St North</td>\n      <td>31923</td>\n      <td>Columbia Pike &amp; S Taylor St</td>\n      <td>70004</td>\n      <td>Member</td>\n      <td>2019-01-01</td>\n      <td>00:12:29</td>\n      <td>January</td>\n      <td>Monday</td>\n    </tr>\n    <tr>\n      <th>...</th>\n      <td>...</td>\n      <td>...</td>\n      <td>...</td>\n      <td>...</td>\n      <td>...</td>\n      <td>...</td>\n      <td>...</td>\n      <td>...</td>\n      <td>...</td>\n      <td>...</td>\n      <td>...</td>\n      <td>...</td>\n      <td>...</td>\n    </tr>\n    <tr>\n      <th>161873</th>\n      <td>130</td>\n      <td>2019-12-31 23:57:36</td>\n      <td>2019-12-31 23:59:46</td>\n      <td>31011</td>\n      <td>Crystal Dr &amp; 23rd St S</td>\n      <td>31009</td>\n      <td>Crystal Dr &amp; 27th St S</td>\n      <td>W21285</td>\n      <td>Member</td>\n      <td>2019-12-31</td>\n      <td>23:57:36</td>\n      <td>December</td>\n      <td>Monday</td>\n    </tr>\n    <tr>\n      <th>161874</th>\n      <td>664</td>\n      <td>2019-12-31 23:57:47</td>\n      <td>2020-01-01 00:08:51</td>\n      <td>31125</td>\n      <td>15th &amp; W St NW</td>\n      <td>31281</td>\n      <td>8th &amp; O St NW</td>\n      <td>W24197</td>\n      <td>Member</td>\n      <td>2019-12-31</td>\n      <td>23:57:47</td>\n      <td>December</td>\n      <td>Monday</td>\n    </tr>\n    <tr>\n      <th>161875</th>\n      <td>389</td>\n      <td>2019-12-31 23:59:37</td>\n      <td>2020-01-01 00:06:06</td>\n      <td>31047</td>\n      <td>Braddock Rd Metro</td>\n      <td>31085</td>\n      <td>Mount Vernon Ave &amp; E Nelson Ave</td>\n      <td>W21281</td>\n      <td>Member</td>\n      <td>2019-12-31</td>\n      <td>23:59:37</td>\n      <td>December</td>\n      <td>Monday</td>\n    </tr>\n    <tr>\n      <th>161876</th>\n      <td>962</td>\n      <td>2019-12-31 23:59:38</td>\n      <td>2020-01-01 00:15:40</td>\n      <td>31236</td>\n      <td>37th &amp; O St NW / Georgetown University</td>\n      <td>31214</td>\n      <td>17th &amp; Corcoran St NW</td>\n      <td>W00534</td>\n      <td>Member</td>\n      <td>2019-12-31</td>\n      <td>23:59:38</td>\n      <td>December</td>\n      <td>Monday</td>\n    </tr>\n    <tr>\n      <th>161877</th>\n      <td>183</td>\n      <td>2019-12-31 23:59:55</td>\n      <td>2020-01-01 00:02:58</td>\n      <td>31227</td>\n      <td>13th St &amp; New York Ave NW</td>\n      <td>31254</td>\n      <td>15th &amp; K St NW</td>\n      <td>W22782</td>\n      <td>Member</td>\n      <td>2019-12-31</td>\n      <td>23:59:55</td>\n      <td>December</td>\n      <td>Monday</td>\n    </tr>\n  </tbody>\n</table>\n<p>3041772 rows × 13 columns</p>\n</div>"
     },
     "metadata": {},
     "execution_count": 11
    }
   ],
   "source": [
    "y2019"
   ]
  },
  {
   "cell_type": "code",
   "execution_count": 12,
   "metadata": {},
   "outputs": [
    {
     "output_type": "execute_result",
     "data": {
      "text/plain": [
       "<bound method DataFrame.drop of         Duration          Start date             End date  \\\n",
       "0            230 2019-01-01 00:04:48  2019-01-01 00:08:39   \n",
       "1           1549 2019-01-01 00:06:37  2019-01-01 00:32:27   \n",
       "2            177 2019-01-01 00:08:46  2019-01-01 00:11:44   \n",
       "3            228 2019-01-01 00:08:47  2019-01-01 00:12:35   \n",
       "4           1300 2019-01-01 00:12:29  2019-01-01 00:34:10   \n",
       "...          ...                 ...                  ...   \n",
       "161873       130 2019-12-31 23:57:36  2019-12-31 23:59:46   \n",
       "161874       664 2019-12-31 23:57:47  2020-01-01 00:08:51   \n",
       "161875       389 2019-12-31 23:59:37  2020-01-01 00:06:06   \n",
       "161876       962 2019-12-31 23:59:38  2020-01-01 00:15:40   \n",
       "161877       183 2019-12-31 23:59:55  2020-01-01 00:02:58   \n",
       "\n",
       "        Start station number                           Start station  \\\n",
       "0                      31203              14th & Rhode Island Ave NW   \n",
       "1                      31321           15th St & Constitution Ave NW   \n",
       "2                      31104             Adams Mill & Columbia Rd NW   \n",
       "3                      31281                           8th & O St NW   \n",
       "4                      31014                    Lynn & 19th St North   \n",
       "...                      ...                                     ...   \n",
       "161873                 31011                  Crystal Dr & 23rd St S   \n",
       "161874                 31125                          15th & W St NW   \n",
       "161875                 31047                       Braddock Rd Metro   \n",
       "161876                 31236  37th & O St NW / Georgetown University   \n",
       "161877                 31227               13th St & New York Ave NW   \n",
       "\n",
       "        End station number                                        End station  \\\n",
       "0                    31200               Massachusetts Ave & Dupont Circle NW   \n",
       "1                    31114                           18th St & Wyoming Ave NW   \n",
       "2                    31323  Woodley Park Metro / Calvert St & Connecticut ...   \n",
       "3                    31280                                     11th & S St NW   \n",
       "4                    31923                        Columbia Pike & S Taylor St   \n",
       "...                    ...                                                ...   \n",
       "161873               31009                             Crystal Dr & 27th St S   \n",
       "161874               31281                                      8th & O St NW   \n",
       "161875               31085                    Mount Vernon Ave & E Nelson Ave   \n",
       "161876               31214                              17th & Corcoran St NW   \n",
       "161877               31254                                     15th & K St NW   \n",
       "\n",
       "       Bike number Member type        date      time     month weekday  \n",
       "0           E00141      Member  2019-01-01  00:04:48   January  Monday  \n",
       "1           W24067      Casual  2019-01-01  00:06:37   January  Monday  \n",
       "2           W22654      Casual  2019-01-01  00:08:46   January  Monday  \n",
       "3           W22336      Member  2019-01-01  00:08:47   January  Monday  \n",
       "4            70004      Member  2019-01-01  00:12:29   January  Monday  \n",
       "...            ...         ...         ...       ...       ...     ...  \n",
       "161873      W21285      Member  2019-12-31  23:57:36  December  Monday  \n",
       "161874      W24197      Member  2019-12-31  23:57:47  December  Monday  \n",
       "161875      W21281      Member  2019-12-31  23:59:37  December  Monday  \n",
       "161876      W00534      Member  2019-12-31  23:59:38  December  Monday  \n",
       "161877      W22782      Member  2019-12-31  23:59:55  December  Monday  \n",
       "\n",
       "[3041772 rows x 13 columns]>"
      ]
     },
     "metadata": {},
     "execution_count": 12
    }
   ],
   "source": [
    "y2019.drop"
   ]
  },
  {
   "cell_type": "code",
   "execution_count": 13,
   "metadata": {},
   "outputs": [],
   "source": [
    "y2019.loc[y2019['weekday'] == 'Saturday', 'workingday'] = 'weekend'\n",
    "y2019.loc[y2019['weekday'] == 'Sunday', 'workingday'] = 'weekend'\n",
    "y2019.loc[y2019['weekday'] == 'Monday', 'workingday'] = 'weekday'\n",
    "y2019.loc[y2019['weekday'] == 'Tuesday', 'workingday'] = 'weekday'\n",
    "y2019.loc[y2019['weekday'] == 'Wednesday', 'workingday'] = 'weekday'\n",
    "y2019.loc[y2019['weekday'] == 'Thursday', 'workingday'] = 'weekday'\n",
    "y2019.loc[y2019['weekday'] == 'Friday', 'workingday'] = 'weekday'"
   ]
  },
  {
   "cell_type": "code",
   "execution_count": 14,
   "metadata": {},
   "outputs": [
    {
     "output_type": "execute_result",
     "data": {
      "text/plain": [
       "        Duration          Start date             End date  \\\n",
       "0            230 2019-01-01 00:04:48  2019-01-01 00:08:39   \n",
       "1           1549 2019-01-01 00:06:37  2019-01-01 00:32:27   \n",
       "2            177 2019-01-01 00:08:46  2019-01-01 00:11:44   \n",
       "3            228 2019-01-01 00:08:47  2019-01-01 00:12:35   \n",
       "4           1300 2019-01-01 00:12:29  2019-01-01 00:34:10   \n",
       "...          ...                 ...                  ...   \n",
       "161873       130 2019-12-31 23:57:36  2019-12-31 23:59:46   \n",
       "161874       664 2019-12-31 23:57:47  2020-01-01 00:08:51   \n",
       "161875       389 2019-12-31 23:59:37  2020-01-01 00:06:06   \n",
       "161876       962 2019-12-31 23:59:38  2020-01-01 00:15:40   \n",
       "161877       183 2019-12-31 23:59:55  2020-01-01 00:02:58   \n",
       "\n",
       "        Start station number                           Start station  \\\n",
       "0                      31203              14th & Rhode Island Ave NW   \n",
       "1                      31321           15th St & Constitution Ave NW   \n",
       "2                      31104             Adams Mill & Columbia Rd NW   \n",
       "3                      31281                           8th & O St NW   \n",
       "4                      31014                    Lynn & 19th St North   \n",
       "...                      ...                                     ...   \n",
       "161873                 31011                  Crystal Dr & 23rd St S   \n",
       "161874                 31125                          15th & W St NW   \n",
       "161875                 31047                       Braddock Rd Metro   \n",
       "161876                 31236  37th & O St NW / Georgetown University   \n",
       "161877                 31227               13th St & New York Ave NW   \n",
       "\n",
       "        End station number                                        End station  \\\n",
       "0                    31200               Massachusetts Ave & Dupont Circle NW   \n",
       "1                    31114                           18th St & Wyoming Ave NW   \n",
       "2                    31323  Woodley Park Metro / Calvert St & Connecticut ...   \n",
       "3                    31280                                     11th & S St NW   \n",
       "4                    31923                        Columbia Pike & S Taylor St   \n",
       "...                    ...                                                ...   \n",
       "161873               31009                             Crystal Dr & 27th St S   \n",
       "161874               31281                                      8th & O St NW   \n",
       "161875               31085                    Mount Vernon Ave & E Nelson Ave   \n",
       "161876               31214                              17th & Corcoran St NW   \n",
       "161877               31254                                     15th & K St NW   \n",
       "\n",
       "       Bike number Member type        date      time     month weekday  \\\n",
       "0           E00141      Member  2019-01-01  00:04:48   January  Monday   \n",
       "1           W24067      Casual  2019-01-01  00:06:37   January  Monday   \n",
       "2           W22654      Casual  2019-01-01  00:08:46   January  Monday   \n",
       "3           W22336      Member  2019-01-01  00:08:47   January  Monday   \n",
       "4            70004      Member  2019-01-01  00:12:29   January  Monday   \n",
       "...            ...         ...         ...       ...       ...     ...   \n",
       "161873      W21285      Member  2019-12-31  23:57:36  December  Monday   \n",
       "161874      W24197      Member  2019-12-31  23:57:47  December  Monday   \n",
       "161875      W21281      Member  2019-12-31  23:59:37  December  Monday   \n",
       "161876      W00534      Member  2019-12-31  23:59:38  December  Monday   \n",
       "161877      W22782      Member  2019-12-31  23:59:55  December  Monday   \n",
       "\n",
       "       workingday  \n",
       "0         weekday  \n",
       "1         weekday  \n",
       "2         weekday  \n",
       "3         weekday  \n",
       "4         weekday  \n",
       "...           ...  \n",
       "161873    weekday  \n",
       "161874    weekday  \n",
       "161875    weekday  \n",
       "161876    weekday  \n",
       "161877    weekday  \n",
       "\n",
       "[3041772 rows x 14 columns]"
      ],
      "text/html": "<div>\n<style scoped>\n    .dataframe tbody tr th:only-of-type {\n        vertical-align: middle;\n    }\n\n    .dataframe tbody tr th {\n        vertical-align: top;\n    }\n\n    .dataframe thead th {\n        text-align: right;\n    }\n</style>\n<table border=\"1\" class=\"dataframe\">\n  <thead>\n    <tr style=\"text-align: right;\">\n      <th></th>\n      <th>Duration</th>\n      <th>Start date</th>\n      <th>End date</th>\n      <th>Start station number</th>\n      <th>Start station</th>\n      <th>End station number</th>\n      <th>End station</th>\n      <th>Bike number</th>\n      <th>Member type</th>\n      <th>date</th>\n      <th>time</th>\n      <th>month</th>\n      <th>weekday</th>\n      <th>workingday</th>\n    </tr>\n  </thead>\n  <tbody>\n    <tr>\n      <th>0</th>\n      <td>230</td>\n      <td>2019-01-01 00:04:48</td>\n      <td>2019-01-01 00:08:39</td>\n      <td>31203</td>\n      <td>14th &amp; Rhode Island Ave NW</td>\n      <td>31200</td>\n      <td>Massachusetts Ave &amp; Dupont Circle NW</td>\n      <td>E00141</td>\n      <td>Member</td>\n      <td>2019-01-01</td>\n      <td>00:04:48</td>\n      <td>January</td>\n      <td>Monday</td>\n      <td>weekday</td>\n    </tr>\n    <tr>\n      <th>1</th>\n      <td>1549</td>\n      <td>2019-01-01 00:06:37</td>\n      <td>2019-01-01 00:32:27</td>\n      <td>31321</td>\n      <td>15th St &amp; Constitution Ave NW</td>\n      <td>31114</td>\n      <td>18th St &amp; Wyoming Ave NW</td>\n      <td>W24067</td>\n      <td>Casual</td>\n      <td>2019-01-01</td>\n      <td>00:06:37</td>\n      <td>January</td>\n      <td>Monday</td>\n      <td>weekday</td>\n    </tr>\n    <tr>\n      <th>2</th>\n      <td>177</td>\n      <td>2019-01-01 00:08:46</td>\n      <td>2019-01-01 00:11:44</td>\n      <td>31104</td>\n      <td>Adams Mill &amp; Columbia Rd NW</td>\n      <td>31323</td>\n      <td>Woodley Park Metro / Calvert St &amp; Connecticut ...</td>\n      <td>W22654</td>\n      <td>Casual</td>\n      <td>2019-01-01</td>\n      <td>00:08:46</td>\n      <td>January</td>\n      <td>Monday</td>\n      <td>weekday</td>\n    </tr>\n    <tr>\n      <th>3</th>\n      <td>228</td>\n      <td>2019-01-01 00:08:47</td>\n      <td>2019-01-01 00:12:35</td>\n      <td>31281</td>\n      <td>8th &amp; O St NW</td>\n      <td>31280</td>\n      <td>11th &amp; S St NW</td>\n      <td>W22336</td>\n      <td>Member</td>\n      <td>2019-01-01</td>\n      <td>00:08:47</td>\n      <td>January</td>\n      <td>Monday</td>\n      <td>weekday</td>\n    </tr>\n    <tr>\n      <th>4</th>\n      <td>1300</td>\n      <td>2019-01-01 00:12:29</td>\n      <td>2019-01-01 00:34:10</td>\n      <td>31014</td>\n      <td>Lynn &amp; 19th St North</td>\n      <td>31923</td>\n      <td>Columbia Pike &amp; S Taylor St</td>\n      <td>70004</td>\n      <td>Member</td>\n      <td>2019-01-01</td>\n      <td>00:12:29</td>\n      <td>January</td>\n      <td>Monday</td>\n      <td>weekday</td>\n    </tr>\n    <tr>\n      <th>...</th>\n      <td>...</td>\n      <td>...</td>\n      <td>...</td>\n      <td>...</td>\n      <td>...</td>\n      <td>...</td>\n      <td>...</td>\n      <td>...</td>\n      <td>...</td>\n      <td>...</td>\n      <td>...</td>\n      <td>...</td>\n      <td>...</td>\n      <td>...</td>\n    </tr>\n    <tr>\n      <th>161873</th>\n      <td>130</td>\n      <td>2019-12-31 23:57:36</td>\n      <td>2019-12-31 23:59:46</td>\n      <td>31011</td>\n      <td>Crystal Dr &amp; 23rd St S</td>\n      <td>31009</td>\n      <td>Crystal Dr &amp; 27th St S</td>\n      <td>W21285</td>\n      <td>Member</td>\n      <td>2019-12-31</td>\n      <td>23:57:36</td>\n      <td>December</td>\n      <td>Monday</td>\n      <td>weekday</td>\n    </tr>\n    <tr>\n      <th>161874</th>\n      <td>664</td>\n      <td>2019-12-31 23:57:47</td>\n      <td>2020-01-01 00:08:51</td>\n      <td>31125</td>\n      <td>15th &amp; W St NW</td>\n      <td>31281</td>\n      <td>8th &amp; O St NW</td>\n      <td>W24197</td>\n      <td>Member</td>\n      <td>2019-12-31</td>\n      <td>23:57:47</td>\n      <td>December</td>\n      <td>Monday</td>\n      <td>weekday</td>\n    </tr>\n    <tr>\n      <th>161875</th>\n      <td>389</td>\n      <td>2019-12-31 23:59:37</td>\n      <td>2020-01-01 00:06:06</td>\n      <td>31047</td>\n      <td>Braddock Rd Metro</td>\n      <td>31085</td>\n      <td>Mount Vernon Ave &amp; E Nelson Ave</td>\n      <td>W21281</td>\n      <td>Member</td>\n      <td>2019-12-31</td>\n      <td>23:59:37</td>\n      <td>December</td>\n      <td>Monday</td>\n      <td>weekday</td>\n    </tr>\n    <tr>\n      <th>161876</th>\n      <td>962</td>\n      <td>2019-12-31 23:59:38</td>\n      <td>2020-01-01 00:15:40</td>\n      <td>31236</td>\n      <td>37th &amp; O St NW / Georgetown University</td>\n      <td>31214</td>\n      <td>17th &amp; Corcoran St NW</td>\n      <td>W00534</td>\n      <td>Member</td>\n      <td>2019-12-31</td>\n      <td>23:59:38</td>\n      <td>December</td>\n      <td>Monday</td>\n      <td>weekday</td>\n    </tr>\n    <tr>\n      <th>161877</th>\n      <td>183</td>\n      <td>2019-12-31 23:59:55</td>\n      <td>2020-01-01 00:02:58</td>\n      <td>31227</td>\n      <td>13th St &amp; New York Ave NW</td>\n      <td>31254</td>\n      <td>15th &amp; K St NW</td>\n      <td>W22782</td>\n      <td>Member</td>\n      <td>2019-12-31</td>\n      <td>23:59:55</td>\n      <td>December</td>\n      <td>Monday</td>\n      <td>weekday</td>\n    </tr>\n  </tbody>\n</table>\n<p>3041772 rows × 14 columns</p>\n</div>"
     },
     "metadata": {},
     "execution_count": 14
    }
   ],
   "source": [
    "y2019"
   ]
  },
  {
   "cell_type": "code",
   "execution_count": 15,
   "metadata": {},
   "outputs": [
    {
     "output_type": "execute_result",
     "data": {
      "text/plain": [
       "weekday    2272546\n",
       "weekend     359940\n",
       "Name: workingday, dtype: int64"
      ]
     },
     "metadata": {},
     "execution_count": 15
    }
   ],
   "source": [
    "y2019['workingday'].value_counts()"
   ]
  },
  {
   "cell_type": "code",
   "execution_count": 16,
   "metadata": {},
   "outputs": [
    {
     "output_type": "execute_result",
     "data": {
      "text/plain": [
       "        Duration          Start date             End date  \\\n",
       "0            230 2019-01-01 00:04:48  2019-01-01 00:08:39   \n",
       "1           1549 2019-01-01 00:06:37  2019-01-01 00:32:27   \n",
       "2            177 2019-01-01 00:08:46  2019-01-01 00:11:44   \n",
       "3            228 2019-01-01 00:08:47  2019-01-01 00:12:35   \n",
       "4           1300 2019-01-01 00:12:29  2019-01-01 00:34:10   \n",
       "...          ...                 ...                  ...   \n",
       "161873       130 2019-12-31 23:57:36  2019-12-31 23:59:46   \n",
       "161874       664 2019-12-31 23:57:47  2020-01-01 00:08:51   \n",
       "161875       389 2019-12-31 23:59:37  2020-01-01 00:06:06   \n",
       "161876       962 2019-12-31 23:59:38  2020-01-01 00:15:40   \n",
       "161877       183 2019-12-31 23:59:55  2020-01-01 00:02:58   \n",
       "\n",
       "        Start station number                           Start station  \\\n",
       "0                      31203              14th & Rhode Island Ave NW   \n",
       "1                      31321           15th St & Constitution Ave NW   \n",
       "2                      31104             Adams Mill & Columbia Rd NW   \n",
       "3                      31281                           8th & O St NW   \n",
       "4                      31014                    Lynn & 19th St North   \n",
       "...                      ...                                     ...   \n",
       "161873                 31011                  Crystal Dr & 23rd St S   \n",
       "161874                 31125                          15th & W St NW   \n",
       "161875                 31047                       Braddock Rd Metro   \n",
       "161876                 31236  37th & O St NW / Georgetown University   \n",
       "161877                 31227               13th St & New York Ave NW   \n",
       "\n",
       "        End station number                                        End station  \\\n",
       "0                    31200               Massachusetts Ave & Dupont Circle NW   \n",
       "1                    31114                           18th St & Wyoming Ave NW   \n",
       "2                    31323  Woodley Park Metro / Calvert St & Connecticut ...   \n",
       "3                    31280                                     11th & S St NW   \n",
       "4                    31923                        Columbia Pike & S Taylor St   \n",
       "...                    ...                                                ...   \n",
       "161873               31009                             Crystal Dr & 27th St S   \n",
       "161874               31281                                      8th & O St NW   \n",
       "161875               31085                    Mount Vernon Ave & E Nelson Ave   \n",
       "161876               31214                              17th & Corcoran St NW   \n",
       "161877               31254                                     15th & K St NW   \n",
       "\n",
       "       Bike number Member type        date      time     month weekday  \\\n",
       "0           E00141      Member  2019-01-01  00:04:48   January  Monday   \n",
       "1           W24067      Casual  2019-01-01  00:06:37   January  Monday   \n",
       "2           W22654      Casual  2019-01-01  00:08:46   January  Monday   \n",
       "3           W22336      Member  2019-01-01  00:08:47   January  Monday   \n",
       "4            70004      Member  2019-01-01  00:12:29   January  Monday   \n",
       "...            ...         ...         ...       ...       ...     ...   \n",
       "161873      W21285      Member  2019-12-31  23:57:36  December  Monday   \n",
       "161874      W24197      Member  2019-12-31  23:57:47  December  Monday   \n",
       "161875      W21281      Member  2019-12-31  23:59:37  December  Monday   \n",
       "161876      W00534      Member  2019-12-31  23:59:38  December  Monday   \n",
       "161877      W22782      Member  2019-12-31  23:59:55  December  Monday   \n",
       "\n",
       "       workingday  Holiday  \n",
       "0         weekday    False  \n",
       "1         weekday    False  \n",
       "2         weekday    False  \n",
       "3         weekday    False  \n",
       "4         weekday    False  \n",
       "...           ...      ...  \n",
       "161873    weekday    False  \n",
       "161874    weekday    False  \n",
       "161875    weekday    False  \n",
       "161876    weekday    False  \n",
       "161877    weekday    False  \n",
       "\n",
       "[3041772 rows x 15 columns]"
      ],
      "text/html": "<div>\n<style scoped>\n    .dataframe tbody tr th:only-of-type {\n        vertical-align: middle;\n    }\n\n    .dataframe tbody tr th {\n        vertical-align: top;\n    }\n\n    .dataframe thead th {\n        text-align: right;\n    }\n</style>\n<table border=\"1\" class=\"dataframe\">\n  <thead>\n    <tr style=\"text-align: right;\">\n      <th></th>\n      <th>Duration</th>\n      <th>Start date</th>\n      <th>End date</th>\n      <th>Start station number</th>\n      <th>Start station</th>\n      <th>End station number</th>\n      <th>End station</th>\n      <th>Bike number</th>\n      <th>Member type</th>\n      <th>date</th>\n      <th>time</th>\n      <th>month</th>\n      <th>weekday</th>\n      <th>workingday</th>\n      <th>Holiday</th>\n    </tr>\n  </thead>\n  <tbody>\n    <tr>\n      <th>0</th>\n      <td>230</td>\n      <td>2019-01-01 00:04:48</td>\n      <td>2019-01-01 00:08:39</td>\n      <td>31203</td>\n      <td>14th &amp; Rhode Island Ave NW</td>\n      <td>31200</td>\n      <td>Massachusetts Ave &amp; Dupont Circle NW</td>\n      <td>E00141</td>\n      <td>Member</td>\n      <td>2019-01-01</td>\n      <td>00:04:48</td>\n      <td>January</td>\n      <td>Monday</td>\n      <td>weekday</td>\n      <td>False</td>\n    </tr>\n    <tr>\n      <th>1</th>\n      <td>1549</td>\n      <td>2019-01-01 00:06:37</td>\n      <td>2019-01-01 00:32:27</td>\n      <td>31321</td>\n      <td>15th St &amp; Constitution Ave NW</td>\n      <td>31114</td>\n      <td>18th St &amp; Wyoming Ave NW</td>\n      <td>W24067</td>\n      <td>Casual</td>\n      <td>2019-01-01</td>\n      <td>00:06:37</td>\n      <td>January</td>\n      <td>Monday</td>\n      <td>weekday</td>\n      <td>False</td>\n    </tr>\n    <tr>\n      <th>2</th>\n      <td>177</td>\n      <td>2019-01-01 00:08:46</td>\n      <td>2019-01-01 00:11:44</td>\n      <td>31104</td>\n      <td>Adams Mill &amp; Columbia Rd NW</td>\n      <td>31323</td>\n      <td>Woodley Park Metro / Calvert St &amp; Connecticut ...</td>\n      <td>W22654</td>\n      <td>Casual</td>\n      <td>2019-01-01</td>\n      <td>00:08:46</td>\n      <td>January</td>\n      <td>Monday</td>\n      <td>weekday</td>\n      <td>False</td>\n    </tr>\n    <tr>\n      <th>3</th>\n      <td>228</td>\n      <td>2019-01-01 00:08:47</td>\n      <td>2019-01-01 00:12:35</td>\n      <td>31281</td>\n      <td>8th &amp; O St NW</td>\n      <td>31280</td>\n      <td>11th &amp; S St NW</td>\n      <td>W22336</td>\n      <td>Member</td>\n      <td>2019-01-01</td>\n      <td>00:08:47</td>\n      <td>January</td>\n      <td>Monday</td>\n      <td>weekday</td>\n      <td>False</td>\n    </tr>\n    <tr>\n      <th>4</th>\n      <td>1300</td>\n      <td>2019-01-01 00:12:29</td>\n      <td>2019-01-01 00:34:10</td>\n      <td>31014</td>\n      <td>Lynn &amp; 19th St North</td>\n      <td>31923</td>\n      <td>Columbia Pike &amp; S Taylor St</td>\n      <td>70004</td>\n      <td>Member</td>\n      <td>2019-01-01</td>\n      <td>00:12:29</td>\n      <td>January</td>\n      <td>Monday</td>\n      <td>weekday</td>\n      <td>False</td>\n    </tr>\n    <tr>\n      <th>...</th>\n      <td>...</td>\n      <td>...</td>\n      <td>...</td>\n      <td>...</td>\n      <td>...</td>\n      <td>...</td>\n      <td>...</td>\n      <td>...</td>\n      <td>...</td>\n      <td>...</td>\n      <td>...</td>\n      <td>...</td>\n      <td>...</td>\n      <td>...</td>\n      <td>...</td>\n    </tr>\n    <tr>\n      <th>161873</th>\n      <td>130</td>\n      <td>2019-12-31 23:57:36</td>\n      <td>2019-12-31 23:59:46</td>\n      <td>31011</td>\n      <td>Crystal Dr &amp; 23rd St S</td>\n      <td>31009</td>\n      <td>Crystal Dr &amp; 27th St S</td>\n      <td>W21285</td>\n      <td>Member</td>\n      <td>2019-12-31</td>\n      <td>23:57:36</td>\n      <td>December</td>\n      <td>Monday</td>\n      <td>weekday</td>\n      <td>False</td>\n    </tr>\n    <tr>\n      <th>161874</th>\n      <td>664</td>\n      <td>2019-12-31 23:57:47</td>\n      <td>2020-01-01 00:08:51</td>\n      <td>31125</td>\n      <td>15th &amp; W St NW</td>\n      <td>31281</td>\n      <td>8th &amp; O St NW</td>\n      <td>W24197</td>\n      <td>Member</td>\n      <td>2019-12-31</td>\n      <td>23:57:47</td>\n      <td>December</td>\n      <td>Monday</td>\n      <td>weekday</td>\n      <td>False</td>\n    </tr>\n    <tr>\n      <th>161875</th>\n      <td>389</td>\n      <td>2019-12-31 23:59:37</td>\n      <td>2020-01-01 00:06:06</td>\n      <td>31047</td>\n      <td>Braddock Rd Metro</td>\n      <td>31085</td>\n      <td>Mount Vernon Ave &amp; E Nelson Ave</td>\n      <td>W21281</td>\n      <td>Member</td>\n      <td>2019-12-31</td>\n      <td>23:59:37</td>\n      <td>December</td>\n      <td>Monday</td>\n      <td>weekday</td>\n      <td>False</td>\n    </tr>\n    <tr>\n      <th>161876</th>\n      <td>962</td>\n      <td>2019-12-31 23:59:38</td>\n      <td>2020-01-01 00:15:40</td>\n      <td>31236</td>\n      <td>37th &amp; O St NW / Georgetown University</td>\n      <td>31214</td>\n      <td>17th &amp; Corcoran St NW</td>\n      <td>W00534</td>\n      <td>Member</td>\n      <td>2019-12-31</td>\n      <td>23:59:38</td>\n      <td>December</td>\n      <td>Monday</td>\n      <td>weekday</td>\n      <td>False</td>\n    </tr>\n    <tr>\n      <th>161877</th>\n      <td>183</td>\n      <td>2019-12-31 23:59:55</td>\n      <td>2020-01-01 00:02:58</td>\n      <td>31227</td>\n      <td>13th St &amp; New York Ave NW</td>\n      <td>31254</td>\n      <td>15th &amp; K St NW</td>\n      <td>W22782</td>\n      <td>Member</td>\n      <td>2019-12-31</td>\n      <td>23:59:55</td>\n      <td>December</td>\n      <td>Monday</td>\n      <td>weekday</td>\n      <td>False</td>\n    </tr>\n  </tbody>\n</table>\n<p>3041772 rows × 15 columns</p>\n</div>"
     },
     "metadata": {},
     "execution_count": 16
    }
   ],
   "source": [
    "holiday = pd.date_range(start='2019-01-01', end='2019-12-31')\n",
    "\n",
    "cal = calendar()\n",
    "holidays = cal.holidays(start=holiday.min(), end=holiday.max())\n",
    "\n",
    "y2019['Holiday'] = y2019['date'].isin(holidays)\n",
    "y2019"
   ]
  },
  {
   "cell_type": "code",
   "execution_count": 17,
   "metadata": {},
   "outputs": [],
   "source": [
    "y2019.loc[y2019['Holiday'] == False, 'holiday'] = 'No'\n",
    "y2019.loc[y2019['Holiday'] == True, 'holiday'] = 'Yes'"
   ]
  },
  {
   "cell_type": "code",
   "execution_count": 18,
   "metadata": {},
   "outputs": [
    {
     "output_type": "execute_result",
     "data": {
      "text/plain": [
       "        Duration          Start date             End date  \\\n",
       "0            230 2019-01-01 00:04:48  2019-01-01 00:08:39   \n",
       "1           1549 2019-01-01 00:06:37  2019-01-01 00:32:27   \n",
       "2            177 2019-01-01 00:08:46  2019-01-01 00:11:44   \n",
       "3            228 2019-01-01 00:08:47  2019-01-01 00:12:35   \n",
       "4           1300 2019-01-01 00:12:29  2019-01-01 00:34:10   \n",
       "...          ...                 ...                  ...   \n",
       "161873       130 2019-12-31 23:57:36  2019-12-31 23:59:46   \n",
       "161874       664 2019-12-31 23:57:47  2020-01-01 00:08:51   \n",
       "161875       389 2019-12-31 23:59:37  2020-01-01 00:06:06   \n",
       "161876       962 2019-12-31 23:59:38  2020-01-01 00:15:40   \n",
       "161877       183 2019-12-31 23:59:55  2020-01-01 00:02:58   \n",
       "\n",
       "        Start station number                           Start station  \\\n",
       "0                      31203              14th & Rhode Island Ave NW   \n",
       "1                      31321           15th St & Constitution Ave NW   \n",
       "2                      31104             Adams Mill & Columbia Rd NW   \n",
       "3                      31281                           8th & O St NW   \n",
       "4                      31014                    Lynn & 19th St North   \n",
       "...                      ...                                     ...   \n",
       "161873                 31011                  Crystal Dr & 23rd St S   \n",
       "161874                 31125                          15th & W St NW   \n",
       "161875                 31047                       Braddock Rd Metro   \n",
       "161876                 31236  37th & O St NW / Georgetown University   \n",
       "161877                 31227               13th St & New York Ave NW   \n",
       "\n",
       "        End station number                                        End station  \\\n",
       "0                    31200               Massachusetts Ave & Dupont Circle NW   \n",
       "1                    31114                           18th St & Wyoming Ave NW   \n",
       "2                    31323  Woodley Park Metro / Calvert St & Connecticut ...   \n",
       "3                    31280                                     11th & S St NW   \n",
       "4                    31923                        Columbia Pike & S Taylor St   \n",
       "...                    ...                                                ...   \n",
       "161873               31009                             Crystal Dr & 27th St S   \n",
       "161874               31281                                      8th & O St NW   \n",
       "161875               31085                    Mount Vernon Ave & E Nelson Ave   \n",
       "161876               31214                              17th & Corcoran St NW   \n",
       "161877               31254                                     15th & K St NW   \n",
       "\n",
       "       Bike number Member type        date      time     month weekday  \\\n",
       "0           E00141      Member  2019-01-01  00:04:48   January  Monday   \n",
       "1           W24067      Casual  2019-01-01  00:06:37   January  Monday   \n",
       "2           W22654      Casual  2019-01-01  00:08:46   January  Monday   \n",
       "3           W22336      Member  2019-01-01  00:08:47   January  Monday   \n",
       "4            70004      Member  2019-01-01  00:12:29   January  Monday   \n",
       "...            ...         ...         ...       ...       ...     ...   \n",
       "161873      W21285      Member  2019-12-31  23:57:36  December  Monday   \n",
       "161874      W24197      Member  2019-12-31  23:57:47  December  Monday   \n",
       "161875      W21281      Member  2019-12-31  23:59:37  December  Monday   \n",
       "161876      W00534      Member  2019-12-31  23:59:38  December  Monday   \n",
       "161877      W22782      Member  2019-12-31  23:59:55  December  Monday   \n",
       "\n",
       "       workingday  Holiday holiday  hour  minutes  second  \n",
       "0         weekday    False      No     0        4      48  \n",
       "1         weekday    False      No     0        6      37  \n",
       "2         weekday    False      No     0        8      46  \n",
       "3         weekday    False      No     0        8      47  \n",
       "4         weekday    False      No     0       12      29  \n",
       "...           ...      ...     ...   ...      ...     ...  \n",
       "161873    weekday    False      No    23       57      36  \n",
       "161874    weekday    False      No    23       57      47  \n",
       "161875    weekday    False      No    23       59      37  \n",
       "161876    weekday    False      No    23       59      38  \n",
       "161877    weekday    False      No    23       59      55  \n",
       "\n",
       "[3041772 rows x 19 columns]"
      ],
      "text/html": "<div>\n<style scoped>\n    .dataframe tbody tr th:only-of-type {\n        vertical-align: middle;\n    }\n\n    .dataframe tbody tr th {\n        vertical-align: top;\n    }\n\n    .dataframe thead th {\n        text-align: right;\n    }\n</style>\n<table border=\"1\" class=\"dataframe\">\n  <thead>\n    <tr style=\"text-align: right;\">\n      <th></th>\n      <th>Duration</th>\n      <th>Start date</th>\n      <th>End date</th>\n      <th>Start station number</th>\n      <th>Start station</th>\n      <th>End station number</th>\n      <th>End station</th>\n      <th>Bike number</th>\n      <th>Member type</th>\n      <th>date</th>\n      <th>time</th>\n      <th>month</th>\n      <th>weekday</th>\n      <th>workingday</th>\n      <th>Holiday</th>\n      <th>holiday</th>\n      <th>hour</th>\n      <th>minutes</th>\n      <th>second</th>\n    </tr>\n  </thead>\n  <tbody>\n    <tr>\n      <th>0</th>\n      <td>230</td>\n      <td>2019-01-01 00:04:48</td>\n      <td>2019-01-01 00:08:39</td>\n      <td>31203</td>\n      <td>14th &amp; Rhode Island Ave NW</td>\n      <td>31200</td>\n      <td>Massachusetts Ave &amp; Dupont Circle NW</td>\n      <td>E00141</td>\n      <td>Member</td>\n      <td>2019-01-01</td>\n      <td>00:04:48</td>\n      <td>January</td>\n      <td>Monday</td>\n      <td>weekday</td>\n      <td>False</td>\n      <td>No</td>\n      <td>0</td>\n      <td>4</td>\n      <td>48</td>\n    </tr>\n    <tr>\n      <th>1</th>\n      <td>1549</td>\n      <td>2019-01-01 00:06:37</td>\n      <td>2019-01-01 00:32:27</td>\n      <td>31321</td>\n      <td>15th St &amp; Constitution Ave NW</td>\n      <td>31114</td>\n      <td>18th St &amp; Wyoming Ave NW</td>\n      <td>W24067</td>\n      <td>Casual</td>\n      <td>2019-01-01</td>\n      <td>00:06:37</td>\n      <td>January</td>\n      <td>Monday</td>\n      <td>weekday</td>\n      <td>False</td>\n      <td>No</td>\n      <td>0</td>\n      <td>6</td>\n      <td>37</td>\n    </tr>\n    <tr>\n      <th>2</th>\n      <td>177</td>\n      <td>2019-01-01 00:08:46</td>\n      <td>2019-01-01 00:11:44</td>\n      <td>31104</td>\n      <td>Adams Mill &amp; Columbia Rd NW</td>\n      <td>31323</td>\n      <td>Woodley Park Metro / Calvert St &amp; Connecticut ...</td>\n      <td>W22654</td>\n      <td>Casual</td>\n      <td>2019-01-01</td>\n      <td>00:08:46</td>\n      <td>January</td>\n      <td>Monday</td>\n      <td>weekday</td>\n      <td>False</td>\n      <td>No</td>\n      <td>0</td>\n      <td>8</td>\n      <td>46</td>\n    </tr>\n    <tr>\n      <th>3</th>\n      <td>228</td>\n      <td>2019-01-01 00:08:47</td>\n      <td>2019-01-01 00:12:35</td>\n      <td>31281</td>\n      <td>8th &amp; O St NW</td>\n      <td>31280</td>\n      <td>11th &amp; S St NW</td>\n      <td>W22336</td>\n      <td>Member</td>\n      <td>2019-01-01</td>\n      <td>00:08:47</td>\n      <td>January</td>\n      <td>Monday</td>\n      <td>weekday</td>\n      <td>False</td>\n      <td>No</td>\n      <td>0</td>\n      <td>8</td>\n      <td>47</td>\n    </tr>\n    <tr>\n      <th>4</th>\n      <td>1300</td>\n      <td>2019-01-01 00:12:29</td>\n      <td>2019-01-01 00:34:10</td>\n      <td>31014</td>\n      <td>Lynn &amp; 19th St North</td>\n      <td>31923</td>\n      <td>Columbia Pike &amp; S Taylor St</td>\n      <td>70004</td>\n      <td>Member</td>\n      <td>2019-01-01</td>\n      <td>00:12:29</td>\n      <td>January</td>\n      <td>Monday</td>\n      <td>weekday</td>\n      <td>False</td>\n      <td>No</td>\n      <td>0</td>\n      <td>12</td>\n      <td>29</td>\n    </tr>\n    <tr>\n      <th>...</th>\n      <td>...</td>\n      <td>...</td>\n      <td>...</td>\n      <td>...</td>\n      <td>...</td>\n      <td>...</td>\n      <td>...</td>\n      <td>...</td>\n      <td>...</td>\n      <td>...</td>\n      <td>...</td>\n      <td>...</td>\n      <td>...</td>\n      <td>...</td>\n      <td>...</td>\n      <td>...</td>\n      <td>...</td>\n      <td>...</td>\n      <td>...</td>\n    </tr>\n    <tr>\n      <th>161873</th>\n      <td>130</td>\n      <td>2019-12-31 23:57:36</td>\n      <td>2019-12-31 23:59:46</td>\n      <td>31011</td>\n      <td>Crystal Dr &amp; 23rd St S</td>\n      <td>31009</td>\n      <td>Crystal Dr &amp; 27th St S</td>\n      <td>W21285</td>\n      <td>Member</td>\n      <td>2019-12-31</td>\n      <td>23:57:36</td>\n      <td>December</td>\n      <td>Monday</td>\n      <td>weekday</td>\n      <td>False</td>\n      <td>No</td>\n      <td>23</td>\n      <td>57</td>\n      <td>36</td>\n    </tr>\n    <tr>\n      <th>161874</th>\n      <td>664</td>\n      <td>2019-12-31 23:57:47</td>\n      <td>2020-01-01 00:08:51</td>\n      <td>31125</td>\n      <td>15th &amp; W St NW</td>\n      <td>31281</td>\n      <td>8th &amp; O St NW</td>\n      <td>W24197</td>\n      <td>Member</td>\n      <td>2019-12-31</td>\n      <td>23:57:47</td>\n      <td>December</td>\n      <td>Monday</td>\n      <td>weekday</td>\n      <td>False</td>\n      <td>No</td>\n      <td>23</td>\n      <td>57</td>\n      <td>47</td>\n    </tr>\n    <tr>\n      <th>161875</th>\n      <td>389</td>\n      <td>2019-12-31 23:59:37</td>\n      <td>2020-01-01 00:06:06</td>\n      <td>31047</td>\n      <td>Braddock Rd Metro</td>\n      <td>31085</td>\n      <td>Mount Vernon Ave &amp; E Nelson Ave</td>\n      <td>W21281</td>\n      <td>Member</td>\n      <td>2019-12-31</td>\n      <td>23:59:37</td>\n      <td>December</td>\n      <td>Monday</td>\n      <td>weekday</td>\n      <td>False</td>\n      <td>No</td>\n      <td>23</td>\n      <td>59</td>\n      <td>37</td>\n    </tr>\n    <tr>\n      <th>161876</th>\n      <td>962</td>\n      <td>2019-12-31 23:59:38</td>\n      <td>2020-01-01 00:15:40</td>\n      <td>31236</td>\n      <td>37th &amp; O St NW / Georgetown University</td>\n      <td>31214</td>\n      <td>17th &amp; Corcoran St NW</td>\n      <td>W00534</td>\n      <td>Member</td>\n      <td>2019-12-31</td>\n      <td>23:59:38</td>\n      <td>December</td>\n      <td>Monday</td>\n      <td>weekday</td>\n      <td>False</td>\n      <td>No</td>\n      <td>23</td>\n      <td>59</td>\n      <td>38</td>\n    </tr>\n    <tr>\n      <th>161877</th>\n      <td>183</td>\n      <td>2019-12-31 23:59:55</td>\n      <td>2020-01-01 00:02:58</td>\n      <td>31227</td>\n      <td>13th St &amp; New York Ave NW</td>\n      <td>31254</td>\n      <td>15th &amp; K St NW</td>\n      <td>W22782</td>\n      <td>Member</td>\n      <td>2019-12-31</td>\n      <td>23:59:55</td>\n      <td>December</td>\n      <td>Monday</td>\n      <td>weekday</td>\n      <td>False</td>\n      <td>No</td>\n      <td>23</td>\n      <td>59</td>\n      <td>55</td>\n    </tr>\n  </tbody>\n</table>\n<p>3041772 rows × 19 columns</p>\n</div>"
     },
     "metadata": {},
     "execution_count": 18
    }
   ],
   "source": [
    "y2019[['hour','minutes','second']] = y2019['time'].astype(str).str.split(':', expand=True).astype(int)\n",
    "y2019"
   ]
  },
  {
   "cell_type": "code",
   "execution_count": 19,
   "metadata": {},
   "outputs": [],
   "source": [
    "g1 = y2019.groupby([ 'date', 'hour','weekday','holiday']).size()"
   ]
  },
  {
   "cell_type": "code",
   "execution_count": 20,
   "metadata": {},
   "outputs": [
    {
     "output_type": "execute_result",
     "data": {
      "text/plain": [
       "            date  hour weekday holiday  count\n",
       "0     2019-01-01     0  Monday      No     60\n",
       "1     2019-01-01     1  Monday      No    107\n",
       "2     2019-01-01     2  Monday      No    102\n",
       "3     2019-01-01     3  Monday      No     25\n",
       "4     2019-01-01     4  Monday      No     14\n",
       "...          ...   ...     ...     ...    ...\n",
       "7998  2019-12-31    19  Monday      No    180\n",
       "7999  2019-12-31    20  Monday      No    135\n",
       "8000  2019-12-31    21  Monday      No    111\n",
       "8001  2019-12-31    22  Monday      No     80\n",
       "8002  2019-12-31    23  Monday      No    107\n",
       "\n",
       "[8003 rows x 5 columns]"
      ],
      "text/html": "<div>\n<style scoped>\n    .dataframe tbody tr th:only-of-type {\n        vertical-align: middle;\n    }\n\n    .dataframe tbody tr th {\n        vertical-align: top;\n    }\n\n    .dataframe thead th {\n        text-align: right;\n    }\n</style>\n<table border=\"1\" class=\"dataframe\">\n  <thead>\n    <tr style=\"text-align: right;\">\n      <th></th>\n      <th>date</th>\n      <th>hour</th>\n      <th>weekday</th>\n      <th>holiday</th>\n      <th>count</th>\n    </tr>\n  </thead>\n  <tbody>\n    <tr>\n      <th>0</th>\n      <td>2019-01-01</td>\n      <td>0</td>\n      <td>Monday</td>\n      <td>No</td>\n      <td>60</td>\n    </tr>\n    <tr>\n      <th>1</th>\n      <td>2019-01-01</td>\n      <td>1</td>\n      <td>Monday</td>\n      <td>No</td>\n      <td>107</td>\n    </tr>\n    <tr>\n      <th>2</th>\n      <td>2019-01-01</td>\n      <td>2</td>\n      <td>Monday</td>\n      <td>No</td>\n      <td>102</td>\n    </tr>\n    <tr>\n      <th>3</th>\n      <td>2019-01-01</td>\n      <td>3</td>\n      <td>Monday</td>\n      <td>No</td>\n      <td>25</td>\n    </tr>\n    <tr>\n      <th>4</th>\n      <td>2019-01-01</td>\n      <td>4</td>\n      <td>Monday</td>\n      <td>No</td>\n      <td>14</td>\n    </tr>\n    <tr>\n      <th>...</th>\n      <td>...</td>\n      <td>...</td>\n      <td>...</td>\n      <td>...</td>\n      <td>...</td>\n    </tr>\n    <tr>\n      <th>7998</th>\n      <td>2019-12-31</td>\n      <td>19</td>\n      <td>Monday</td>\n      <td>No</td>\n      <td>180</td>\n    </tr>\n    <tr>\n      <th>7999</th>\n      <td>2019-12-31</td>\n      <td>20</td>\n      <td>Monday</td>\n      <td>No</td>\n      <td>135</td>\n    </tr>\n    <tr>\n      <th>8000</th>\n      <td>2019-12-31</td>\n      <td>21</td>\n      <td>Monday</td>\n      <td>No</td>\n      <td>111</td>\n    </tr>\n    <tr>\n      <th>8001</th>\n      <td>2019-12-31</td>\n      <td>22</td>\n      <td>Monday</td>\n      <td>No</td>\n      <td>80</td>\n    </tr>\n    <tr>\n      <th>8002</th>\n      <td>2019-12-31</td>\n      <td>23</td>\n      <td>Monday</td>\n      <td>No</td>\n      <td>107</td>\n    </tr>\n  </tbody>\n</table>\n<p>8003 rows × 5 columns</p>\n</div>"
     },
     "metadata": {},
     "execution_count": 20
    }
   ],
   "source": [
    "g2 = g1.reset_index()\n",
    "g2.columns = ['date', 'hour','weekday','holiday','count']\n",
    "g2"
   ]
  },
  {
   "cell_type": "code",
   "execution_count": 21,
   "metadata": {},
   "outputs": [
    {
     "output_type": "execute_result",
     "data": {
      "text/plain": [
       "      hour weekday holiday\n",
       "0        0  Monday      No\n",
       "1        1  Monday      No\n",
       "2        2  Monday      No\n",
       "3        3  Monday      No\n",
       "4        4  Monday      No\n",
       "...    ...     ...     ...\n",
       "7998    19  Monday      No\n",
       "7999    20  Monday      No\n",
       "8000    21  Monday      No\n",
       "8001    22  Monday      No\n",
       "8002    23  Monday      No\n",
       "\n",
       "[8003 rows x 3 columns]"
      ],
      "text/html": "<div>\n<style scoped>\n    .dataframe tbody tr th:only-of-type {\n        vertical-align: middle;\n    }\n\n    .dataframe tbody tr th {\n        vertical-align: top;\n    }\n\n    .dataframe thead th {\n        text-align: right;\n    }\n</style>\n<table border=\"1\" class=\"dataframe\">\n  <thead>\n    <tr style=\"text-align: right;\">\n      <th></th>\n      <th>hour</th>\n      <th>weekday</th>\n      <th>holiday</th>\n    </tr>\n  </thead>\n  <tbody>\n    <tr>\n      <th>0</th>\n      <td>0</td>\n      <td>Monday</td>\n      <td>No</td>\n    </tr>\n    <tr>\n      <th>1</th>\n      <td>1</td>\n      <td>Monday</td>\n      <td>No</td>\n    </tr>\n    <tr>\n      <th>2</th>\n      <td>2</td>\n      <td>Monday</td>\n      <td>No</td>\n    </tr>\n    <tr>\n      <th>3</th>\n      <td>3</td>\n      <td>Monday</td>\n      <td>No</td>\n    </tr>\n    <tr>\n      <th>4</th>\n      <td>4</td>\n      <td>Monday</td>\n      <td>No</td>\n    </tr>\n    <tr>\n      <th>...</th>\n      <td>...</td>\n      <td>...</td>\n      <td>...</td>\n    </tr>\n    <tr>\n      <th>7998</th>\n      <td>19</td>\n      <td>Monday</td>\n      <td>No</td>\n    </tr>\n    <tr>\n      <th>7999</th>\n      <td>20</td>\n      <td>Monday</td>\n      <td>No</td>\n    </tr>\n    <tr>\n      <th>8000</th>\n      <td>21</td>\n      <td>Monday</td>\n      <td>No</td>\n    </tr>\n    <tr>\n      <th>8001</th>\n      <td>22</td>\n      <td>Monday</td>\n      <td>No</td>\n    </tr>\n    <tr>\n      <th>8002</th>\n      <td>23</td>\n      <td>Monday</td>\n      <td>No</td>\n    </tr>\n  </tbody>\n</table>\n<p>8003 rows × 3 columns</p>\n</div>"
     },
     "metadata": {},
     "execution_count": 21
    }
   ],
   "source": [
    "X = g2[['hour','weekday','holiday']]\n",
    "X"
   ]
  },
  {
   "cell_type": "code",
   "execution_count": 22,
   "metadata": {},
   "outputs": [
    {
     "output_type": "execute_result",
     "data": {
      "text/plain": [
       "0        60\n",
       "1       107\n",
       "2       102\n",
       "3        25\n",
       "4        14\n",
       "       ... \n",
       "7998    180\n",
       "7999    135\n",
       "8000    111\n",
       "8001     80\n",
       "8002    107\n",
       "Name: count, Length: 8003, dtype: int64"
      ]
     },
     "metadata": {},
     "execution_count": 22
    }
   ],
   "source": [
    "Y = g2['count']\n",
    "Y"
   ]
  },
  {
   "cell_type": "code",
   "execution_count": 23,
   "metadata": {},
   "outputs": [
    {
     "output_type": "execute_result",
     "data": {
      "text/plain": [
       "hour        int64\n",
       "weekday    object\n",
       "holiday    object\n",
       "dtype: object"
      ]
     },
     "metadata": {},
     "execution_count": 23
    }
   ],
   "source": [
    "X.dtypes"
   ]
  },
  {
   "cell_type": "code",
   "execution_count": 24,
   "metadata": {},
   "outputs": [
    {
     "output_type": "execute_result",
     "data": {
      "text/plain": [
       "      hour  weekday_0  weekday_Friday  weekday_Monday  weekday_Saturday  \\\n",
       "0        0          0               0               1                 0   \n",
       "1        1          0               0               1                 0   \n",
       "2        2          0               0               1                 0   \n",
       "3        3          0               0               1                 0   \n",
       "4        4          0               0               1                 0   \n",
       "...    ...        ...             ...             ...               ...   \n",
       "7998    19          0               0               1                 0   \n",
       "7999    20          0               0               1                 0   \n",
       "8000    21          0               0               1                 0   \n",
       "8001    22          0               0               1                 0   \n",
       "8002    23          0               0               1                 0   \n",
       "\n",
       "      weekday_Thursday  weekday_Tuesday  weekday_Wednesday  holiday_No  \\\n",
       "0                    0                0                  0           1   \n",
       "1                    0                0                  0           1   \n",
       "2                    0                0                  0           1   \n",
       "3                    0                0                  0           1   \n",
       "4                    0                0                  0           1   \n",
       "...                ...              ...                ...         ...   \n",
       "7998                 0                0                  0           1   \n",
       "7999                 0                0                  0           1   \n",
       "8000                 0                0                  0           1   \n",
       "8001                 0                0                  0           1   \n",
       "8002                 0                0                  0           1   \n",
       "\n",
       "      holiday_Yes  \n",
       "0               0  \n",
       "1               0  \n",
       "2               0  \n",
       "3               0  \n",
       "4               0  \n",
       "...           ...  \n",
       "7998            0  \n",
       "7999            0  \n",
       "8000            0  \n",
       "8001            0  \n",
       "8002            0  \n",
       "\n",
       "[8003 rows x 10 columns]"
      ],
      "text/html": "<div>\n<style scoped>\n    .dataframe tbody tr th:only-of-type {\n        vertical-align: middle;\n    }\n\n    .dataframe tbody tr th {\n        vertical-align: top;\n    }\n\n    .dataframe thead th {\n        text-align: right;\n    }\n</style>\n<table border=\"1\" class=\"dataframe\">\n  <thead>\n    <tr style=\"text-align: right;\">\n      <th></th>\n      <th>hour</th>\n      <th>weekday_0</th>\n      <th>weekday_Friday</th>\n      <th>weekday_Monday</th>\n      <th>weekday_Saturday</th>\n      <th>weekday_Thursday</th>\n      <th>weekday_Tuesday</th>\n      <th>weekday_Wednesday</th>\n      <th>holiday_No</th>\n      <th>holiday_Yes</th>\n    </tr>\n  </thead>\n  <tbody>\n    <tr>\n      <th>0</th>\n      <td>0</td>\n      <td>0</td>\n      <td>0</td>\n      <td>1</td>\n      <td>0</td>\n      <td>0</td>\n      <td>0</td>\n      <td>0</td>\n      <td>1</td>\n      <td>0</td>\n    </tr>\n    <tr>\n      <th>1</th>\n      <td>1</td>\n      <td>0</td>\n      <td>0</td>\n      <td>1</td>\n      <td>0</td>\n      <td>0</td>\n      <td>0</td>\n      <td>0</td>\n      <td>1</td>\n      <td>0</td>\n    </tr>\n    <tr>\n      <th>2</th>\n      <td>2</td>\n      <td>0</td>\n      <td>0</td>\n      <td>1</td>\n      <td>0</td>\n      <td>0</td>\n      <td>0</td>\n      <td>0</td>\n      <td>1</td>\n      <td>0</td>\n    </tr>\n    <tr>\n      <th>3</th>\n      <td>3</td>\n      <td>0</td>\n      <td>0</td>\n      <td>1</td>\n      <td>0</td>\n      <td>0</td>\n      <td>0</td>\n      <td>0</td>\n      <td>1</td>\n      <td>0</td>\n    </tr>\n    <tr>\n      <th>4</th>\n      <td>4</td>\n      <td>0</td>\n      <td>0</td>\n      <td>1</td>\n      <td>0</td>\n      <td>0</td>\n      <td>0</td>\n      <td>0</td>\n      <td>1</td>\n      <td>0</td>\n    </tr>\n    <tr>\n      <th>...</th>\n      <td>...</td>\n      <td>...</td>\n      <td>...</td>\n      <td>...</td>\n      <td>...</td>\n      <td>...</td>\n      <td>...</td>\n      <td>...</td>\n      <td>...</td>\n      <td>...</td>\n    </tr>\n    <tr>\n      <th>7998</th>\n      <td>19</td>\n      <td>0</td>\n      <td>0</td>\n      <td>1</td>\n      <td>0</td>\n      <td>0</td>\n      <td>0</td>\n      <td>0</td>\n      <td>1</td>\n      <td>0</td>\n    </tr>\n    <tr>\n      <th>7999</th>\n      <td>20</td>\n      <td>0</td>\n      <td>0</td>\n      <td>1</td>\n      <td>0</td>\n      <td>0</td>\n      <td>0</td>\n      <td>0</td>\n      <td>1</td>\n      <td>0</td>\n    </tr>\n    <tr>\n      <th>8000</th>\n      <td>21</td>\n      <td>0</td>\n      <td>0</td>\n      <td>1</td>\n      <td>0</td>\n      <td>0</td>\n      <td>0</td>\n      <td>0</td>\n      <td>1</td>\n      <td>0</td>\n    </tr>\n    <tr>\n      <th>8001</th>\n      <td>22</td>\n      <td>0</td>\n      <td>0</td>\n      <td>1</td>\n      <td>0</td>\n      <td>0</td>\n      <td>0</td>\n      <td>0</td>\n      <td>1</td>\n      <td>0</td>\n    </tr>\n    <tr>\n      <th>8002</th>\n      <td>23</td>\n      <td>0</td>\n      <td>0</td>\n      <td>1</td>\n      <td>0</td>\n      <td>0</td>\n      <td>0</td>\n      <td>0</td>\n      <td>1</td>\n      <td>0</td>\n    </tr>\n  </tbody>\n</table>\n<p>8003 rows × 10 columns</p>\n</div>"
     },
     "metadata": {},
     "execution_count": 24
    }
   ],
   "source": [
    "X = pd.get_dummies(X)\n",
    "X"
   ]
  },
  {
   "cell_type": "code",
   "execution_count": 25,
   "metadata": {},
   "outputs": [],
   "source": [
    "regressor = LinearRegression()"
   ]
  },
  {
   "cell_type": "code",
   "execution_count": 26,
   "metadata": {},
   "outputs": [
    {
     "output_type": "execute_result",
     "data": {
      "text/plain": [
       "LinearRegression()"
      ]
     },
     "metadata": {},
     "execution_count": 26
    }
   ],
   "source": [
    "regressor.fit(X,Y)"
   ]
  },
  {
   "cell_type": "code",
   "execution_count": 27,
   "metadata": {},
   "outputs": [],
   "source": [
    "pickle.dump(regressor, open('model.pkl', 'wb'))"
   ]
  },
  {
   "cell_type": "code",
   "execution_count": 28,
   "metadata": {},
   "outputs": [],
   "source": [
    "model = pickle.load(open('model.pkl', 'rb'))"
   ]
  },
  {
   "cell_type": "code",
   "execution_count": 29,
   "metadata": {},
   "outputs": [],
   "source": [
    "data = []"
   ]
  },
  {
   "cell_type": "code",
   "execution_count": 30,
   "metadata": {},
   "outputs": [],
   "source": [
    "item = [0, 'No', 'Monday']"
   ]
  },
  {
   "cell_type": "code",
   "execution_count": null,
   "metadata": {},
   "outputs": [],
   "source": []
  }
 ]
}
